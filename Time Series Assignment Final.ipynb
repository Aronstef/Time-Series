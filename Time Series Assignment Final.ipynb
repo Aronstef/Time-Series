{
 "cells": [
  {
   "cell_type": "code",
   "execution_count": 1,
   "id": "b39e5b48",
   "metadata": {},
   "outputs": [],
   "source": [
    "import numpy as np\n",
    "import pandas as pd\n",
    "import matplotlib.pyplot as plt\n",
    "import seaborn as sns"
   ]
  },
  {
   "cell_type": "code",
   "execution_count": 2,
   "id": "28a0b53c",
   "metadata": {},
   "outputs": [],
   "source": [
    "df = pd.read_csv(\"MaunaLoaDailyTemps Time Series.csv\",parse_dates= None)"
   ]
  },
  {
   "cell_type": "code",
   "execution_count": 3,
   "id": "510303ab",
   "metadata": {},
   "outputs": [
    {
     "data": {
      "text/html": [
       "<div>\n",
       "<style scoped>\n",
       "    .dataframe tbody tr th:only-of-type {\n",
       "        vertical-align: middle;\n",
       "    }\n",
       "\n",
       "    .dataframe tbody tr th {\n",
       "        vertical-align: top;\n",
       "    }\n",
       "\n",
       "    .dataframe thead th {\n",
       "        text-align: right;\n",
       "    }\n",
       "</style>\n",
       "<table border=\"1\" class=\"dataframe\">\n",
       "  <thead>\n",
       "    <tr style=\"text-align: right;\">\n",
       "      <th></th>\n",
       "      <th>DATE</th>\n",
       "      <th>MinTemp</th>\n",
       "      <th>MaxTemp</th>\n",
       "      <th>AvgTemp</th>\n",
       "      <th>Sunrise</th>\n",
       "      <th>Sunset</th>\n",
       "    </tr>\n",
       "  </thead>\n",
       "  <tbody>\n",
       "    <tr>\n",
       "      <th>0</th>\n",
       "      <td>1/1/2014</td>\n",
       "      <td>33.0</td>\n",
       "      <td>46.0</td>\n",
       "      <td>40.0</td>\n",
       "      <td>657</td>\n",
       "      <td>1756</td>\n",
       "    </tr>\n",
       "    <tr>\n",
       "      <th>1</th>\n",
       "      <td>1/2/2014</td>\n",
       "      <td>35.0</td>\n",
       "      <td>50.0</td>\n",
       "      <td>43.0</td>\n",
       "      <td>657</td>\n",
       "      <td>1756</td>\n",
       "    </tr>\n",
       "    <tr>\n",
       "      <th>2</th>\n",
       "      <td>1/3/2014</td>\n",
       "      <td>36.0</td>\n",
       "      <td>45.0</td>\n",
       "      <td>41.0</td>\n",
       "      <td>657</td>\n",
       "      <td>1757</td>\n",
       "    </tr>\n",
       "    <tr>\n",
       "      <th>3</th>\n",
       "      <td>1/4/2014</td>\n",
       "      <td>32.0</td>\n",
       "      <td>41.0</td>\n",
       "      <td>37.0</td>\n",
       "      <td>658</td>\n",
       "      <td>1757</td>\n",
       "    </tr>\n",
       "    <tr>\n",
       "      <th>4</th>\n",
       "      <td>1/5/2014</td>\n",
       "      <td>24.0</td>\n",
       "      <td>38.0</td>\n",
       "      <td>31.0</td>\n",
       "      <td>658</td>\n",
       "      <td>1758</td>\n",
       "    </tr>\n",
       "    <tr>\n",
       "      <th>...</th>\n",
       "      <td>...</td>\n",
       "      <td>...</td>\n",
       "      <td>...</td>\n",
       "      <td>...</td>\n",
       "      <td>...</td>\n",
       "      <td>...</td>\n",
       "    </tr>\n",
       "    <tr>\n",
       "      <th>1820</th>\n",
       "      <td>12/26/2018</td>\n",
       "      <td>35.0</td>\n",
       "      <td>45.0</td>\n",
       "      <td>40.0</td>\n",
       "      <td>654</td>\n",
       "      <td>1752</td>\n",
       "    </tr>\n",
       "    <tr>\n",
       "      <th>1821</th>\n",
       "      <td>12/27/2018</td>\n",
       "      <td>33.0</td>\n",
       "      <td>44.0</td>\n",
       "      <td>39.0</td>\n",
       "      <td>655</td>\n",
       "      <td>1752</td>\n",
       "    </tr>\n",
       "    <tr>\n",
       "      <th>1822</th>\n",
       "      <td>12/28/2018</td>\n",
       "      <td>33.0</td>\n",
       "      <td>47.0</td>\n",
       "      <td>40.0</td>\n",
       "      <td>655</td>\n",
       "      <td>1753</td>\n",
       "    </tr>\n",
       "    <tr>\n",
       "      <th>1823</th>\n",
       "      <td>12/29/2018</td>\n",
       "      <td>36.0</td>\n",
       "      <td>47.0</td>\n",
       "      <td>42.0</td>\n",
       "      <td>655</td>\n",
       "      <td>1753</td>\n",
       "    </tr>\n",
       "    <tr>\n",
       "      <th>1824</th>\n",
       "      <td>12/30/2018</td>\n",
       "      <td>39.0</td>\n",
       "      <td>52.0</td>\n",
       "      <td>46.0</td>\n",
       "      <td>656</td>\n",
       "      <td>1754</td>\n",
       "    </tr>\n",
       "  </tbody>\n",
       "</table>\n",
       "<p>1825 rows × 6 columns</p>\n",
       "</div>"
      ],
      "text/plain": [
       "            DATE  MinTemp  MaxTemp  AvgTemp  Sunrise  Sunset\n",
       "0       1/1/2014     33.0     46.0     40.0      657    1756\n",
       "1       1/2/2014     35.0     50.0     43.0      657    1756\n",
       "2       1/3/2014     36.0     45.0     41.0      657    1757\n",
       "3       1/4/2014     32.0     41.0     37.0      658    1757\n",
       "4       1/5/2014     24.0     38.0     31.0      658    1758\n",
       "...          ...      ...      ...      ...      ...     ...\n",
       "1820  12/26/2018     35.0     45.0     40.0      654    1752\n",
       "1821  12/27/2018     33.0     44.0     39.0      655    1752\n",
       "1822  12/28/2018     33.0     47.0     40.0      655    1753\n",
       "1823  12/29/2018     36.0     47.0     42.0      655    1753\n",
       "1824  12/30/2018     39.0     52.0     46.0      656    1754\n",
       "\n",
       "[1825 rows x 6 columns]"
      ]
     },
     "execution_count": 3,
     "metadata": {},
     "output_type": "execute_result"
    }
   ],
   "source": [
    "df"
   ]
  },
  {
   "cell_type": "code",
   "execution_count": 4,
   "id": "c955e7b1",
   "metadata": {},
   "outputs": [
    {
     "data": {
      "text/plain": [
       "DATE       0\n",
       "MinTemp    4\n",
       "MaxTemp    4\n",
       "AvgTemp    4\n",
       "Sunrise    0\n",
       "Sunset     0\n",
       "dtype: int64"
      ]
     },
     "execution_count": 4,
     "metadata": {},
     "output_type": "execute_result"
    }
   ],
   "source": [
    "df.isna().sum()"
   ]
  },
  {
   "cell_type": "code",
   "execution_count": 5,
   "id": "dd6da2bc",
   "metadata": {},
   "outputs": [
    {
     "data": {
      "text/html": [
       "<div>\n",
       "<style scoped>\n",
       "    .dataframe tbody tr th:only-of-type {\n",
       "        vertical-align: middle;\n",
       "    }\n",
       "\n",
       "    .dataframe tbody tr th {\n",
       "        vertical-align: top;\n",
       "    }\n",
       "\n",
       "    .dataframe thead th {\n",
       "        text-align: right;\n",
       "    }\n",
       "</style>\n",
       "<table border=\"1\" class=\"dataframe\">\n",
       "  <thead>\n",
       "    <tr style=\"text-align: right;\">\n",
       "      <th></th>\n",
       "      <th>DATE</th>\n",
       "      <th>MinTemp</th>\n",
       "      <th>MaxTemp</th>\n",
       "      <th>AvgTemp</th>\n",
       "      <th>Sunrise</th>\n",
       "      <th>Sunset</th>\n",
       "    </tr>\n",
       "  </thead>\n",
       "  <tbody>\n",
       "    <tr>\n",
       "      <th>0</th>\n",
       "      <td>1/1/2014</td>\n",
       "      <td>33.0</td>\n",
       "      <td>46.0</td>\n",
       "      <td>40.0</td>\n",
       "      <td>657</td>\n",
       "      <td>1756</td>\n",
       "    </tr>\n",
       "    <tr>\n",
       "      <th>1</th>\n",
       "      <td>1/2/2014</td>\n",
       "      <td>35.0</td>\n",
       "      <td>50.0</td>\n",
       "      <td>43.0</td>\n",
       "      <td>657</td>\n",
       "      <td>1756</td>\n",
       "    </tr>\n",
       "    <tr>\n",
       "      <th>2</th>\n",
       "      <td>1/3/2014</td>\n",
       "      <td>36.0</td>\n",
       "      <td>45.0</td>\n",
       "      <td>41.0</td>\n",
       "      <td>657</td>\n",
       "      <td>1757</td>\n",
       "    </tr>\n",
       "    <tr>\n",
       "      <th>3</th>\n",
       "      <td>1/4/2014</td>\n",
       "      <td>32.0</td>\n",
       "      <td>41.0</td>\n",
       "      <td>37.0</td>\n",
       "      <td>658</td>\n",
       "      <td>1757</td>\n",
       "    </tr>\n",
       "    <tr>\n",
       "      <th>4</th>\n",
       "      <td>1/5/2014</td>\n",
       "      <td>24.0</td>\n",
       "      <td>38.0</td>\n",
       "      <td>31.0</td>\n",
       "      <td>658</td>\n",
       "      <td>1758</td>\n",
       "    </tr>\n",
       "    <tr>\n",
       "      <th>...</th>\n",
       "      <td>...</td>\n",
       "      <td>...</td>\n",
       "      <td>...</td>\n",
       "      <td>...</td>\n",
       "      <td>...</td>\n",
       "      <td>...</td>\n",
       "    </tr>\n",
       "    <tr>\n",
       "      <th>1820</th>\n",
       "      <td>12/26/2018</td>\n",
       "      <td>35.0</td>\n",
       "      <td>45.0</td>\n",
       "      <td>40.0</td>\n",
       "      <td>654</td>\n",
       "      <td>1752</td>\n",
       "    </tr>\n",
       "    <tr>\n",
       "      <th>1821</th>\n",
       "      <td>12/27/2018</td>\n",
       "      <td>33.0</td>\n",
       "      <td>44.0</td>\n",
       "      <td>39.0</td>\n",
       "      <td>655</td>\n",
       "      <td>1752</td>\n",
       "    </tr>\n",
       "    <tr>\n",
       "      <th>1822</th>\n",
       "      <td>12/28/2018</td>\n",
       "      <td>33.0</td>\n",
       "      <td>47.0</td>\n",
       "      <td>40.0</td>\n",
       "      <td>655</td>\n",
       "      <td>1753</td>\n",
       "    </tr>\n",
       "    <tr>\n",
       "      <th>1823</th>\n",
       "      <td>12/29/2018</td>\n",
       "      <td>36.0</td>\n",
       "      <td>47.0</td>\n",
       "      <td>42.0</td>\n",
       "      <td>655</td>\n",
       "      <td>1753</td>\n",
       "    </tr>\n",
       "    <tr>\n",
       "      <th>1824</th>\n",
       "      <td>12/30/2018</td>\n",
       "      <td>39.0</td>\n",
       "      <td>52.0</td>\n",
       "      <td>46.0</td>\n",
       "      <td>656</td>\n",
       "      <td>1754</td>\n",
       "    </tr>\n",
       "  </tbody>\n",
       "</table>\n",
       "<p>1821 rows × 6 columns</p>\n",
       "</div>"
      ],
      "text/plain": [
       "            DATE  MinTemp  MaxTemp  AvgTemp  Sunrise  Sunset\n",
       "0       1/1/2014     33.0     46.0     40.0      657    1756\n",
       "1       1/2/2014     35.0     50.0     43.0      657    1756\n",
       "2       1/3/2014     36.0     45.0     41.0      657    1757\n",
       "3       1/4/2014     32.0     41.0     37.0      658    1757\n",
       "4       1/5/2014     24.0     38.0     31.0      658    1758\n",
       "...          ...      ...      ...      ...      ...     ...\n",
       "1820  12/26/2018     35.0     45.0     40.0      654    1752\n",
       "1821  12/27/2018     33.0     44.0     39.0      655    1752\n",
       "1822  12/28/2018     33.0     47.0     40.0      655    1753\n",
       "1823  12/29/2018     36.0     47.0     42.0      655    1753\n",
       "1824  12/30/2018     39.0     52.0     46.0      656    1754\n",
       "\n",
       "[1821 rows x 6 columns]"
      ]
     },
     "execution_count": 5,
     "metadata": {},
     "output_type": "execute_result"
    }
   ],
   "source": [
    "df.dropna()"
   ]
  },
  {
   "cell_type": "code",
   "execution_count": 6,
   "id": "0fff1a18",
   "metadata": {},
   "outputs": [
    {
     "data": {
      "text/html": [
       "<div>\n",
       "<style scoped>\n",
       "    .dataframe tbody tr th:only-of-type {\n",
       "        vertical-align: middle;\n",
       "    }\n",
       "\n",
       "    .dataframe tbody tr th {\n",
       "        vertical-align: top;\n",
       "    }\n",
       "\n",
       "    .dataframe thead th {\n",
       "        text-align: right;\n",
       "    }\n",
       "</style>\n",
       "<table border=\"1\" class=\"dataframe\">\n",
       "  <thead>\n",
       "    <tr style=\"text-align: right;\">\n",
       "      <th></th>\n",
       "      <th>DATE</th>\n",
       "      <th>MinTemp</th>\n",
       "      <th>MaxTemp</th>\n",
       "      <th>AvgTemp</th>\n",
       "      <th>Sunrise</th>\n",
       "      <th>Sunset</th>\n",
       "    </tr>\n",
       "  </thead>\n",
       "  <tbody>\n",
       "    <tr>\n",
       "      <th>0</th>\n",
       "      <td>1/1/2014</td>\n",
       "      <td>33.0</td>\n",
       "      <td>46.0</td>\n",
       "      <td>40.0</td>\n",
       "      <td>657</td>\n",
       "      <td>1756</td>\n",
       "    </tr>\n",
       "    <tr>\n",
       "      <th>1</th>\n",
       "      <td>1/2/2014</td>\n",
       "      <td>35.0</td>\n",
       "      <td>50.0</td>\n",
       "      <td>43.0</td>\n",
       "      <td>657</td>\n",
       "      <td>1756</td>\n",
       "    </tr>\n",
       "    <tr>\n",
       "      <th>2</th>\n",
       "      <td>1/3/2014</td>\n",
       "      <td>36.0</td>\n",
       "      <td>45.0</td>\n",
       "      <td>41.0</td>\n",
       "      <td>657</td>\n",
       "      <td>1757</td>\n",
       "    </tr>\n",
       "    <tr>\n",
       "      <th>3</th>\n",
       "      <td>1/4/2014</td>\n",
       "      <td>32.0</td>\n",
       "      <td>41.0</td>\n",
       "      <td>37.0</td>\n",
       "      <td>658</td>\n",
       "      <td>1757</td>\n",
       "    </tr>\n",
       "    <tr>\n",
       "      <th>4</th>\n",
       "      <td>1/5/2014</td>\n",
       "      <td>24.0</td>\n",
       "      <td>38.0</td>\n",
       "      <td>31.0</td>\n",
       "      <td>658</td>\n",
       "      <td>1758</td>\n",
       "    </tr>\n",
       "    <tr>\n",
       "      <th>...</th>\n",
       "      <td>...</td>\n",
       "      <td>...</td>\n",
       "      <td>...</td>\n",
       "      <td>...</td>\n",
       "      <td>...</td>\n",
       "      <td>...</td>\n",
       "    </tr>\n",
       "    <tr>\n",
       "      <th>1820</th>\n",
       "      <td>12/26/2018</td>\n",
       "      <td>35.0</td>\n",
       "      <td>45.0</td>\n",
       "      <td>40.0</td>\n",
       "      <td>654</td>\n",
       "      <td>1752</td>\n",
       "    </tr>\n",
       "    <tr>\n",
       "      <th>1821</th>\n",
       "      <td>12/27/2018</td>\n",
       "      <td>33.0</td>\n",
       "      <td>44.0</td>\n",
       "      <td>39.0</td>\n",
       "      <td>655</td>\n",
       "      <td>1752</td>\n",
       "    </tr>\n",
       "    <tr>\n",
       "      <th>1822</th>\n",
       "      <td>12/28/2018</td>\n",
       "      <td>33.0</td>\n",
       "      <td>47.0</td>\n",
       "      <td>40.0</td>\n",
       "      <td>655</td>\n",
       "      <td>1753</td>\n",
       "    </tr>\n",
       "    <tr>\n",
       "      <th>1823</th>\n",
       "      <td>12/29/2018</td>\n",
       "      <td>36.0</td>\n",
       "      <td>47.0</td>\n",
       "      <td>42.0</td>\n",
       "      <td>655</td>\n",
       "      <td>1753</td>\n",
       "    </tr>\n",
       "    <tr>\n",
       "      <th>1824</th>\n",
       "      <td>12/30/2018</td>\n",
       "      <td>39.0</td>\n",
       "      <td>52.0</td>\n",
       "      <td>46.0</td>\n",
       "      <td>656</td>\n",
       "      <td>1754</td>\n",
       "    </tr>\n",
       "  </tbody>\n",
       "</table>\n",
       "<p>1825 rows × 6 columns</p>\n",
       "</div>"
      ],
      "text/plain": [
       "            DATE  MinTemp  MaxTemp  AvgTemp  Sunrise  Sunset\n",
       "0       1/1/2014     33.0     46.0     40.0      657    1756\n",
       "1       1/2/2014     35.0     50.0     43.0      657    1756\n",
       "2       1/3/2014     36.0     45.0     41.0      657    1757\n",
       "3       1/4/2014     32.0     41.0     37.0      658    1757\n",
       "4       1/5/2014     24.0     38.0     31.0      658    1758\n",
       "...          ...      ...      ...      ...      ...     ...\n",
       "1820  12/26/2018     35.0     45.0     40.0      654    1752\n",
       "1821  12/27/2018     33.0     44.0     39.0      655    1752\n",
       "1822  12/28/2018     33.0     47.0     40.0      655    1753\n",
       "1823  12/29/2018     36.0     47.0     42.0      655    1753\n",
       "1824  12/30/2018     39.0     52.0     46.0      656    1754\n",
       "\n",
       "[1825 rows x 6 columns]"
      ]
     },
     "execution_count": 6,
     "metadata": {},
     "output_type": "execute_result"
    }
   ],
   "source": [
    "df"
   ]
  },
  {
   "cell_type": "code",
   "execution_count": 7,
   "id": "974c8c09",
   "metadata": {},
   "outputs": [
    {
     "data": {
      "text/plain": [
       "DATE       0\n",
       "MinTemp    4\n",
       "MaxTemp    4\n",
       "AvgTemp    4\n",
       "Sunrise    0\n",
       "Sunset     0\n",
       "dtype: int64"
      ]
     },
     "execution_count": 7,
     "metadata": {},
     "output_type": "execute_result"
    }
   ],
   "source": [
    "df.isna().sum()"
   ]
  },
  {
   "cell_type": "code",
   "execution_count": 8,
   "id": "1c7d5724",
   "metadata": {},
   "outputs": [
    {
     "data": {
      "text/plain": [
       "914     67.0\n",
       "533     67.0\n",
       "1255    66.0\n",
       "577     66.0\n",
       "560     66.0\n",
       "Name: MaxTemp, dtype: float64"
      ]
     },
     "execution_count": 8,
     "metadata": {},
     "output_type": "execute_result"
    }
   ],
   "source": [
    "df[\"MaxTemp\"].sort_values(ascending=False).head()"
   ]
  },
  {
   "cell_type": "code",
   "execution_count": 9,
   "id": "af7df606",
   "metadata": {},
   "outputs": [
    {
     "data": {
      "text/plain": [
       "DATE        object\n",
       "MinTemp    float64\n",
       "MaxTemp    float64\n",
       "AvgTemp    float64\n",
       "Sunrise      int64\n",
       "Sunset       int64\n",
       "dtype: object"
      ]
     },
     "execution_count": 9,
     "metadata": {},
     "output_type": "execute_result"
    }
   ],
   "source": [
    "df.dtypes"
   ]
  },
  {
   "cell_type": "code",
   "execution_count": 10,
   "id": "d6779fd0",
   "metadata": {},
   "outputs": [],
   "source": [
    "from datetime import datetime"
   ]
  },
  {
   "cell_type": "code",
   "execution_count": 11,
   "id": "28264b63",
   "metadata": {},
   "outputs": [],
   "source": [
    "df['DATE'] = pd.to_datetime(df.DATE,errors='ignore')"
   ]
  },
  {
   "cell_type": "code",
   "execution_count": 12,
   "id": "a875e58a",
   "metadata": {},
   "outputs": [
    {
     "data": {
      "text/plain": [
       "DATE       datetime64[ns]\n",
       "MinTemp           float64\n",
       "MaxTemp           float64\n",
       "AvgTemp           float64\n",
       "Sunrise             int64\n",
       "Sunset              int64\n",
       "dtype: object"
      ]
     },
     "execution_count": 12,
     "metadata": {},
     "output_type": "execute_result"
    }
   ],
   "source": [
    "df.dtypes"
   ]
  },
  {
   "cell_type": "code",
   "execution_count": 13,
   "id": "141039a8",
   "metadata": {},
   "outputs": [
    {
     "name": "stdout",
     "output_type": "stream",
     "text": [
      "<class 'pandas.core.frame.DataFrame'>\n",
      "RangeIndex: 1825 entries, 0 to 1824\n",
      "Data columns (total 6 columns):\n",
      " #   Column   Non-Null Count  Dtype         \n",
      "---  ------   --------------  -----         \n",
      " 0   DATE     1825 non-null   datetime64[ns]\n",
      " 1   MinTemp  1821 non-null   float64       \n",
      " 2   MaxTemp  1821 non-null   float64       \n",
      " 3   AvgTemp  1821 non-null   float64       \n",
      " 4   Sunrise  1825 non-null   int64         \n",
      " 5   Sunset   1825 non-null   int64         \n",
      "dtypes: datetime64[ns](1), float64(3), int64(2)\n",
      "memory usage: 85.7 KB\n"
     ]
    }
   ],
   "source": [
    "df.info()"
   ]
  },
  {
   "cell_type": "code",
   "execution_count": 14,
   "id": "a162e305",
   "metadata": {},
   "outputs": [],
   "source": [
    "df.index=df['DATE']"
   ]
  },
  {
   "cell_type": "code",
   "execution_count": 15,
   "id": "5bb8cf16",
   "metadata": {
    "scrolled": true
   },
   "outputs": [
    {
     "data": {
      "text/html": [
       "<div>\n",
       "<style scoped>\n",
       "    .dataframe tbody tr th:only-of-type {\n",
       "        vertical-align: middle;\n",
       "    }\n",
       "\n",
       "    .dataframe tbody tr th {\n",
       "        vertical-align: top;\n",
       "    }\n",
       "\n",
       "    .dataframe thead th {\n",
       "        text-align: right;\n",
       "    }\n",
       "</style>\n",
       "<table border=\"1\" class=\"dataframe\">\n",
       "  <thead>\n",
       "    <tr style=\"text-align: right;\">\n",
       "      <th></th>\n",
       "      <th>DATE</th>\n",
       "      <th>MinTemp</th>\n",
       "      <th>MaxTemp</th>\n",
       "      <th>AvgTemp</th>\n",
       "      <th>Sunrise</th>\n",
       "      <th>Sunset</th>\n",
       "    </tr>\n",
       "    <tr>\n",
       "      <th>DATE</th>\n",
       "      <th></th>\n",
       "      <th></th>\n",
       "      <th></th>\n",
       "      <th></th>\n",
       "      <th></th>\n",
       "      <th></th>\n",
       "    </tr>\n",
       "  </thead>\n",
       "  <tbody>\n",
       "    <tr>\n",
       "      <th>2014-01-01</th>\n",
       "      <td>2014-01-01</td>\n",
       "      <td>33.0</td>\n",
       "      <td>46.0</td>\n",
       "      <td>40.0</td>\n",
       "      <td>657</td>\n",
       "      <td>1756</td>\n",
       "    </tr>\n",
       "    <tr>\n",
       "      <th>2014-01-02</th>\n",
       "      <td>2014-01-02</td>\n",
       "      <td>35.0</td>\n",
       "      <td>50.0</td>\n",
       "      <td>43.0</td>\n",
       "      <td>657</td>\n",
       "      <td>1756</td>\n",
       "    </tr>\n",
       "    <tr>\n",
       "      <th>2014-01-03</th>\n",
       "      <td>2014-01-03</td>\n",
       "      <td>36.0</td>\n",
       "      <td>45.0</td>\n",
       "      <td>41.0</td>\n",
       "      <td>657</td>\n",
       "      <td>1757</td>\n",
       "    </tr>\n",
       "    <tr>\n",
       "      <th>2014-01-04</th>\n",
       "      <td>2014-01-04</td>\n",
       "      <td>32.0</td>\n",
       "      <td>41.0</td>\n",
       "      <td>37.0</td>\n",
       "      <td>658</td>\n",
       "      <td>1757</td>\n",
       "    </tr>\n",
       "    <tr>\n",
       "      <th>2014-01-05</th>\n",
       "      <td>2014-01-05</td>\n",
       "      <td>24.0</td>\n",
       "      <td>38.0</td>\n",
       "      <td>31.0</td>\n",
       "      <td>658</td>\n",
       "      <td>1758</td>\n",
       "    </tr>\n",
       "    <tr>\n",
       "      <th>...</th>\n",
       "      <td>...</td>\n",
       "      <td>...</td>\n",
       "      <td>...</td>\n",
       "      <td>...</td>\n",
       "      <td>...</td>\n",
       "      <td>...</td>\n",
       "    </tr>\n",
       "    <tr>\n",
       "      <th>2018-12-26</th>\n",
       "      <td>2018-12-26</td>\n",
       "      <td>35.0</td>\n",
       "      <td>45.0</td>\n",
       "      <td>40.0</td>\n",
       "      <td>654</td>\n",
       "      <td>1752</td>\n",
       "    </tr>\n",
       "    <tr>\n",
       "      <th>2018-12-27</th>\n",
       "      <td>2018-12-27</td>\n",
       "      <td>33.0</td>\n",
       "      <td>44.0</td>\n",
       "      <td>39.0</td>\n",
       "      <td>655</td>\n",
       "      <td>1752</td>\n",
       "    </tr>\n",
       "    <tr>\n",
       "      <th>2018-12-28</th>\n",
       "      <td>2018-12-28</td>\n",
       "      <td>33.0</td>\n",
       "      <td>47.0</td>\n",
       "      <td>40.0</td>\n",
       "      <td>655</td>\n",
       "      <td>1753</td>\n",
       "    </tr>\n",
       "    <tr>\n",
       "      <th>2018-12-29</th>\n",
       "      <td>2018-12-29</td>\n",
       "      <td>36.0</td>\n",
       "      <td>47.0</td>\n",
       "      <td>42.0</td>\n",
       "      <td>655</td>\n",
       "      <td>1753</td>\n",
       "    </tr>\n",
       "    <tr>\n",
       "      <th>2018-12-30</th>\n",
       "      <td>2018-12-30</td>\n",
       "      <td>39.0</td>\n",
       "      <td>52.0</td>\n",
       "      <td>46.0</td>\n",
       "      <td>656</td>\n",
       "      <td>1754</td>\n",
       "    </tr>\n",
       "  </tbody>\n",
       "</table>\n",
       "<p>1825 rows × 6 columns</p>\n",
       "</div>"
      ],
      "text/plain": [
       "                 DATE  MinTemp  MaxTemp  AvgTemp  Sunrise  Sunset\n",
       "DATE                                                             \n",
       "2014-01-01 2014-01-01     33.0     46.0     40.0      657    1756\n",
       "2014-01-02 2014-01-02     35.0     50.0     43.0      657    1756\n",
       "2014-01-03 2014-01-03     36.0     45.0     41.0      657    1757\n",
       "2014-01-04 2014-01-04     32.0     41.0     37.0      658    1757\n",
       "2014-01-05 2014-01-05     24.0     38.0     31.0      658    1758\n",
       "...               ...      ...      ...      ...      ...     ...\n",
       "2018-12-26 2018-12-26     35.0     45.0     40.0      654    1752\n",
       "2018-12-27 2018-12-27     33.0     44.0     39.0      655    1752\n",
       "2018-12-28 2018-12-28     33.0     47.0     40.0      655    1753\n",
       "2018-12-29 2018-12-29     36.0     47.0     42.0      655    1753\n",
       "2018-12-30 2018-12-30     39.0     52.0     46.0      656    1754\n",
       "\n",
       "[1825 rows x 6 columns]"
      ]
     },
     "execution_count": 15,
     "metadata": {},
     "output_type": "execute_result"
    }
   ],
   "source": [
    "df"
   ]
  },
  {
   "cell_type": "code",
   "execution_count": 16,
   "id": "e7828be1",
   "metadata": {},
   "outputs": [],
   "source": [
    "#del df['DATE']"
   ]
  },
  {
   "cell_type": "code",
   "execution_count": 17,
   "id": "3157a7a8",
   "metadata": {},
   "outputs": [],
   "source": [
    "#df = df.reset_index()"
   ]
  },
  {
   "cell_type": "code",
   "execution_count": 18,
   "id": "ce30212c",
   "metadata": {},
   "outputs": [
    {
     "data": {
      "text/plain": [
       "DATE       0\n",
       "MinTemp    4\n",
       "MaxTemp    4\n",
       "AvgTemp    4\n",
       "Sunrise    0\n",
       "Sunset     0\n",
       "dtype: int64"
      ]
     },
     "execution_count": 18,
     "metadata": {},
     "output_type": "execute_result"
    }
   ],
   "source": [
    "df.isnull().sum()"
   ]
  },
  {
   "cell_type": "code",
   "execution_count": 19,
   "id": "2332439e",
   "metadata": {},
   "outputs": [
    {
     "data": {
      "text/plain": [
       "0"
      ]
     },
     "execution_count": 19,
     "metadata": {},
     "output_type": "execute_result"
    }
   ],
   "source": [
    "df.duplicated().sum()"
   ]
  },
  {
   "cell_type": "code",
   "execution_count": 20,
   "id": "3fbba88b",
   "metadata": {},
   "outputs": [],
   "source": [
    "df_new = df.drop(columns=['DATE','MinTemp','MaxTemp','Sunset','Sunrise'],axis=1)"
   ]
  },
  {
   "cell_type": "code",
   "execution_count": 21,
   "id": "30f378ab",
   "metadata": {},
   "outputs": [
    {
     "data": {
      "text/html": [
       "<div>\n",
       "<style scoped>\n",
       "    .dataframe tbody tr th:only-of-type {\n",
       "        vertical-align: middle;\n",
       "    }\n",
       "\n",
       "    .dataframe tbody tr th {\n",
       "        vertical-align: top;\n",
       "    }\n",
       "\n",
       "    .dataframe thead th {\n",
       "        text-align: right;\n",
       "    }\n",
       "</style>\n",
       "<table border=\"1\" class=\"dataframe\">\n",
       "  <thead>\n",
       "    <tr style=\"text-align: right;\">\n",
       "      <th></th>\n",
       "      <th>AvgTemp</th>\n",
       "    </tr>\n",
       "    <tr>\n",
       "      <th>DATE</th>\n",
       "      <th></th>\n",
       "    </tr>\n",
       "  </thead>\n",
       "  <tbody>\n",
       "    <tr>\n",
       "      <th>2014-01-01</th>\n",
       "      <td>40.0</td>\n",
       "    </tr>\n",
       "    <tr>\n",
       "      <th>2014-01-02</th>\n",
       "      <td>43.0</td>\n",
       "    </tr>\n",
       "    <tr>\n",
       "      <th>2014-01-03</th>\n",
       "      <td>41.0</td>\n",
       "    </tr>\n",
       "    <tr>\n",
       "      <th>2014-01-04</th>\n",
       "      <td>37.0</td>\n",
       "    </tr>\n",
       "    <tr>\n",
       "      <th>2014-01-05</th>\n",
       "      <td>31.0</td>\n",
       "    </tr>\n",
       "    <tr>\n",
       "      <th>...</th>\n",
       "      <td>...</td>\n",
       "    </tr>\n",
       "    <tr>\n",
       "      <th>2018-12-26</th>\n",
       "      <td>40.0</td>\n",
       "    </tr>\n",
       "    <tr>\n",
       "      <th>2018-12-27</th>\n",
       "      <td>39.0</td>\n",
       "    </tr>\n",
       "    <tr>\n",
       "      <th>2018-12-28</th>\n",
       "      <td>40.0</td>\n",
       "    </tr>\n",
       "    <tr>\n",
       "      <th>2018-12-29</th>\n",
       "      <td>42.0</td>\n",
       "    </tr>\n",
       "    <tr>\n",
       "      <th>2018-12-30</th>\n",
       "      <td>46.0</td>\n",
       "    </tr>\n",
       "  </tbody>\n",
       "</table>\n",
       "<p>1825 rows × 1 columns</p>\n",
       "</div>"
      ],
      "text/plain": [
       "            AvgTemp\n",
       "DATE               \n",
       "2014-01-01     40.0\n",
       "2014-01-02     43.0\n",
       "2014-01-03     41.0\n",
       "2014-01-04     37.0\n",
       "2014-01-05     31.0\n",
       "...             ...\n",
       "2018-12-26     40.0\n",
       "2018-12-27     39.0\n",
       "2018-12-28     40.0\n",
       "2018-12-29     42.0\n",
       "2018-12-30     46.0\n",
       "\n",
       "[1825 rows x 1 columns]"
      ]
     },
     "execution_count": 21,
     "metadata": {},
     "output_type": "execute_result"
    }
   ],
   "source": [
    "df_new"
   ]
  },
  {
   "cell_type": "code",
   "execution_count": 22,
   "id": "560eb078",
   "metadata": {},
   "outputs": [
    {
     "data": {
      "text/plain": [
       "48.0    211\n",
       "47.0    192\n",
       "46.0    169\n",
       "49.0    156\n",
       "50.0    152\n",
       "45.0    132\n",
       "51.0    129\n",
       "44.0    124\n",
       "43.0     84\n",
       "52.0     74\n",
       "42.0     67\n",
       "40.0     56\n",
       "41.0     54\n",
       "53.0     51\n",
       "54.0     42\n",
       "39.0     34\n",
       "38.0     18\n",
       "55.0     16\n",
       "56.0     16\n",
       "37.0     14\n",
       "36.0     12\n",
       "34.0      5\n",
       "35.0      5\n",
       "33.0      3\n",
       "57.0      3\n",
       "31.0      2\n",
       "Name: AvgTemp, dtype: int64"
      ]
     },
     "execution_count": 22,
     "metadata": {},
     "output_type": "execute_result"
    }
   ],
   "source": [
    "df_new['AvgTemp'].value_counts()"
   ]
  },
  {
   "cell_type": "code",
   "execution_count": 23,
   "id": "40a91ac6",
   "metadata": {},
   "outputs": [
    {
     "data": {
      "text/plain": [
       "AvgTemp    4\n",
       "dtype: int64"
      ]
     },
     "execution_count": 23,
     "metadata": {},
     "output_type": "execute_result"
    }
   ],
   "source": [
    "df_new.isna().sum()"
   ]
  },
  {
   "cell_type": "code",
   "execution_count": 24,
   "id": "e9b50514",
   "metadata": {},
   "outputs": [
    {
     "data": {
      "text/html": [
       "<div>\n",
       "<style scoped>\n",
       "    .dataframe tbody tr th:only-of-type {\n",
       "        vertical-align: middle;\n",
       "    }\n",
       "\n",
       "    .dataframe tbody tr th {\n",
       "        vertical-align: top;\n",
       "    }\n",
       "\n",
       "    .dataframe thead th {\n",
       "        text-align: right;\n",
       "    }\n",
       "</style>\n",
       "<table border=\"1\" class=\"dataframe\">\n",
       "  <thead>\n",
       "    <tr style=\"text-align: right;\">\n",
       "      <th></th>\n",
       "      <th>DATE</th>\n",
       "      <th>MinTemp</th>\n",
       "      <th>MaxTemp</th>\n",
       "      <th>AvgTemp</th>\n",
       "      <th>Sunrise</th>\n",
       "      <th>Sunset</th>\n",
       "    </tr>\n",
       "    <tr>\n",
       "      <th>DATE</th>\n",
       "      <th></th>\n",
       "      <th></th>\n",
       "      <th></th>\n",
       "      <th></th>\n",
       "      <th></th>\n",
       "      <th></th>\n",
       "    </tr>\n",
       "  </thead>\n",
       "  <tbody>\n",
       "    <tr>\n",
       "      <th>2014-01-01</th>\n",
       "      <td>2014-01-01</td>\n",
       "      <td>33.0</td>\n",
       "      <td>46.0</td>\n",
       "      <td>40.0</td>\n",
       "      <td>657</td>\n",
       "      <td>1756</td>\n",
       "    </tr>\n",
       "    <tr>\n",
       "      <th>2014-01-02</th>\n",
       "      <td>2014-01-02</td>\n",
       "      <td>35.0</td>\n",
       "      <td>50.0</td>\n",
       "      <td>43.0</td>\n",
       "      <td>657</td>\n",
       "      <td>1756</td>\n",
       "    </tr>\n",
       "    <tr>\n",
       "      <th>2014-01-03</th>\n",
       "      <td>2014-01-03</td>\n",
       "      <td>36.0</td>\n",
       "      <td>45.0</td>\n",
       "      <td>41.0</td>\n",
       "      <td>657</td>\n",
       "      <td>1757</td>\n",
       "    </tr>\n",
       "    <tr>\n",
       "      <th>2014-01-04</th>\n",
       "      <td>2014-01-04</td>\n",
       "      <td>32.0</td>\n",
       "      <td>41.0</td>\n",
       "      <td>37.0</td>\n",
       "      <td>658</td>\n",
       "      <td>1757</td>\n",
       "    </tr>\n",
       "    <tr>\n",
       "      <th>2014-01-05</th>\n",
       "      <td>2014-01-05</td>\n",
       "      <td>24.0</td>\n",
       "      <td>38.0</td>\n",
       "      <td>31.0</td>\n",
       "      <td>658</td>\n",
       "      <td>1758</td>\n",
       "    </tr>\n",
       "    <tr>\n",
       "      <th>...</th>\n",
       "      <td>...</td>\n",
       "      <td>...</td>\n",
       "      <td>...</td>\n",
       "      <td>...</td>\n",
       "      <td>...</td>\n",
       "      <td>...</td>\n",
       "    </tr>\n",
       "    <tr>\n",
       "      <th>2018-12-26</th>\n",
       "      <td>2018-12-26</td>\n",
       "      <td>35.0</td>\n",
       "      <td>45.0</td>\n",
       "      <td>40.0</td>\n",
       "      <td>654</td>\n",
       "      <td>1752</td>\n",
       "    </tr>\n",
       "    <tr>\n",
       "      <th>2018-12-27</th>\n",
       "      <td>2018-12-27</td>\n",
       "      <td>33.0</td>\n",
       "      <td>44.0</td>\n",
       "      <td>39.0</td>\n",
       "      <td>655</td>\n",
       "      <td>1752</td>\n",
       "    </tr>\n",
       "    <tr>\n",
       "      <th>2018-12-28</th>\n",
       "      <td>2018-12-28</td>\n",
       "      <td>33.0</td>\n",
       "      <td>47.0</td>\n",
       "      <td>40.0</td>\n",
       "      <td>655</td>\n",
       "      <td>1753</td>\n",
       "    </tr>\n",
       "    <tr>\n",
       "      <th>2018-12-29</th>\n",
       "      <td>2018-12-29</td>\n",
       "      <td>36.0</td>\n",
       "      <td>47.0</td>\n",
       "      <td>42.0</td>\n",
       "      <td>655</td>\n",
       "      <td>1753</td>\n",
       "    </tr>\n",
       "    <tr>\n",
       "      <th>2018-12-30</th>\n",
       "      <td>2018-12-30</td>\n",
       "      <td>39.0</td>\n",
       "      <td>52.0</td>\n",
       "      <td>46.0</td>\n",
       "      <td>656</td>\n",
       "      <td>1754</td>\n",
       "    </tr>\n",
       "  </tbody>\n",
       "</table>\n",
       "<p>1825 rows × 6 columns</p>\n",
       "</div>"
      ],
      "text/plain": [
       "                 DATE  MinTemp  MaxTemp  AvgTemp  Sunrise  Sunset\n",
       "DATE                                                             \n",
       "2014-01-01 2014-01-01     33.0     46.0     40.0      657    1756\n",
       "2014-01-02 2014-01-02     35.0     50.0     43.0      657    1756\n",
       "2014-01-03 2014-01-03     36.0     45.0     41.0      657    1757\n",
       "2014-01-04 2014-01-04     32.0     41.0     37.0      658    1757\n",
       "2014-01-05 2014-01-05     24.0     38.0     31.0      658    1758\n",
       "...               ...      ...      ...      ...      ...     ...\n",
       "2018-12-26 2018-12-26     35.0     45.0     40.0      654    1752\n",
       "2018-12-27 2018-12-27     33.0     44.0     39.0      655    1752\n",
       "2018-12-28 2018-12-28     33.0     47.0     40.0      655    1753\n",
       "2018-12-29 2018-12-29     36.0     47.0     42.0      655    1753\n",
       "2018-12-30 2018-12-30     39.0     52.0     46.0      656    1754\n",
       "\n",
       "[1825 rows x 6 columns]"
      ]
     },
     "execution_count": 24,
     "metadata": {},
     "output_type": "execute_result"
    }
   ],
   "source": [
    "df"
   ]
  },
  {
   "cell_type": "code",
   "execution_count": 25,
   "id": "88034ede",
   "metadata": {},
   "outputs": [
    {
     "data": {
      "text/plain": [
       "AvgTemp    4\n",
       "dtype: int64"
      ]
     },
     "execution_count": 25,
     "metadata": {},
     "output_type": "execute_result"
    }
   ],
   "source": [
    "df_new.isna().sum()"
   ]
  },
  {
   "cell_type": "code",
   "execution_count": 26,
   "id": "89cc27fa",
   "metadata": {},
   "outputs": [],
   "source": [
    "df_new=df_new.fillna(0)"
   ]
  },
  {
   "cell_type": "code",
   "execution_count": 27,
   "id": "d90cba76",
   "metadata": {},
   "outputs": [
    {
     "data": {
      "text/html": [
       "<div>\n",
       "<style scoped>\n",
       "    .dataframe tbody tr th:only-of-type {\n",
       "        vertical-align: middle;\n",
       "    }\n",
       "\n",
       "    .dataframe tbody tr th {\n",
       "        vertical-align: top;\n",
       "    }\n",
       "\n",
       "    .dataframe thead th {\n",
       "        text-align: right;\n",
       "    }\n",
       "</style>\n",
       "<table border=\"1\" class=\"dataframe\">\n",
       "  <thead>\n",
       "    <tr style=\"text-align: right;\">\n",
       "      <th></th>\n",
       "      <th>AvgTemp</th>\n",
       "    </tr>\n",
       "    <tr>\n",
       "      <th>DATE</th>\n",
       "      <th></th>\n",
       "    </tr>\n",
       "  </thead>\n",
       "  <tbody>\n",
       "    <tr>\n",
       "      <th>2014-01-01</th>\n",
       "      <td>40.0</td>\n",
       "    </tr>\n",
       "    <tr>\n",
       "      <th>2014-01-02</th>\n",
       "      <td>43.0</td>\n",
       "    </tr>\n",
       "    <tr>\n",
       "      <th>2014-01-03</th>\n",
       "      <td>41.0</td>\n",
       "    </tr>\n",
       "    <tr>\n",
       "      <th>2014-01-04</th>\n",
       "      <td>37.0</td>\n",
       "    </tr>\n",
       "    <tr>\n",
       "      <th>2014-01-05</th>\n",
       "      <td>31.0</td>\n",
       "    </tr>\n",
       "    <tr>\n",
       "      <th>...</th>\n",
       "      <td>...</td>\n",
       "    </tr>\n",
       "    <tr>\n",
       "      <th>2018-12-26</th>\n",
       "      <td>40.0</td>\n",
       "    </tr>\n",
       "    <tr>\n",
       "      <th>2018-12-27</th>\n",
       "      <td>39.0</td>\n",
       "    </tr>\n",
       "    <tr>\n",
       "      <th>2018-12-28</th>\n",
       "      <td>40.0</td>\n",
       "    </tr>\n",
       "    <tr>\n",
       "      <th>2018-12-29</th>\n",
       "      <td>42.0</td>\n",
       "    </tr>\n",
       "    <tr>\n",
       "      <th>2018-12-30</th>\n",
       "      <td>46.0</td>\n",
       "    </tr>\n",
       "  </tbody>\n",
       "</table>\n",
       "<p>1825 rows × 1 columns</p>\n",
       "</div>"
      ],
      "text/plain": [
       "            AvgTemp\n",
       "DATE               \n",
       "2014-01-01     40.0\n",
       "2014-01-02     43.0\n",
       "2014-01-03     41.0\n",
       "2014-01-04     37.0\n",
       "2014-01-05     31.0\n",
       "...             ...\n",
       "2018-12-26     40.0\n",
       "2018-12-27     39.0\n",
       "2018-12-28     40.0\n",
       "2018-12-29     42.0\n",
       "2018-12-30     46.0\n",
       "\n",
       "[1825 rows x 1 columns]"
      ]
     },
     "execution_count": 27,
     "metadata": {},
     "output_type": "execute_result"
    }
   ],
   "source": [
    "df_new"
   ]
  },
  {
   "cell_type": "code",
   "execution_count": 28,
   "id": "1dd19b8b",
   "metadata": {},
   "outputs": [],
   "source": [
    "from statsmodels.tsa.stattools import adfuller"
   ]
  },
  {
   "cell_type": "code",
   "execution_count": 29,
   "id": "e78d8c04",
   "metadata": {},
   "outputs": [],
   "source": [
    "result=adfuller(df_new['AvgTemp'])\n",
    "pvalue = result[1]\n"
   ]
  },
  {
   "cell_type": "code",
   "execution_count": 30,
   "id": "1a45e71c",
   "metadata": {},
   "outputs": [
    {
     "data": {
      "text/plain": [
       "7.13047237743004e-12"
      ]
     },
     "execution_count": 30,
     "metadata": {},
     "output_type": "execute_result"
    }
   ],
   "source": [
    "pvalue"
   ]
  },
  {
   "cell_type": "code",
   "execution_count": 31,
   "id": "e8d7bbbd",
   "metadata": {},
   "outputs": [
    {
     "name": "stdout",
     "output_type": "stream",
     "text": [
      "we accept null hypothesis- data is stationary\n"
     ]
    }
   ],
   "source": [
    "if pvalue<0.05:\n",
    "    print('we accept null hypothesis- data is stationary')\n",
    "    \n",
    "else:\n",
    "    print('we reject null hypothesis- data is not stationary')"
   ]
  },
  {
   "cell_type": "code",
   "execution_count": 32,
   "id": "f830a408",
   "metadata": {},
   "outputs": [
    {
     "data": {
      "text/plain": [
       "48.0    211\n",
       "47.0    192\n",
       "46.0    169\n",
       "49.0    156\n",
       "50.0    152\n",
       "45.0    132\n",
       "51.0    129\n",
       "44.0    124\n",
       "43.0     84\n",
       "52.0     74\n",
       "42.0     67\n",
       "40.0     56\n",
       "41.0     54\n",
       "53.0     51\n",
       "54.0     42\n",
       "39.0     34\n",
       "38.0     18\n",
       "55.0     16\n",
       "56.0     16\n",
       "37.0     14\n",
       "36.0     12\n",
       "34.0      5\n",
       "35.0      5\n",
       "33.0      3\n",
       "57.0      3\n",
       "31.0      2\n",
       "Name: AvgTemp, dtype: int64"
      ]
     },
     "execution_count": 32,
     "metadata": {},
     "output_type": "execute_result"
    }
   ],
   "source": [
    "df['AvgTemp'].value_counts()"
   ]
  },
  {
   "cell_type": "code",
   "execution_count": 33,
   "id": "835ab4ea",
   "metadata": {},
   "outputs": [
    {
     "data": {
      "text/plain": [
       "(1825, 6)"
      ]
     },
     "execution_count": 33,
     "metadata": {},
     "output_type": "execute_result"
    }
   ],
   "source": [
    "df.shape"
   ]
  },
  {
   "cell_type": "code",
   "execution_count": 34,
   "id": "1a6d0f2f",
   "metadata": {},
   "outputs": [
    {
     "data": {
      "text/plain": [
       "DatetimeIndex(['2014-01-01', '2014-01-02', '2014-01-03', '2014-01-04',\n",
       "               '2014-01-05', '2014-01-06', '2014-01-07', '2014-01-08',\n",
       "               '2014-01-09', '2014-01-10',\n",
       "               ...\n",
       "               '2018-12-21', '2018-12-22', '2018-12-23', '2018-12-24',\n",
       "               '2018-12-25', '2018-12-26', '2018-12-27', '2018-12-28',\n",
       "               '2018-12-29', '2018-12-30'],\n",
       "              dtype='datetime64[ns]', name='DATE', length=1825, freq=None)"
      ]
     },
     "execution_count": 34,
     "metadata": {},
     "output_type": "execute_result"
    }
   ],
   "source": [
    "df.index"
   ]
  },
  {
   "cell_type": "markdown",
   "id": "4a23b072",
   "metadata": {},
   "source": [
    "# EDA"
   ]
  },
  {
   "cell_type": "code",
   "execution_count": 35,
   "id": "3f9a8282",
   "metadata": {},
   "outputs": [
    {
     "data": {
      "text/plain": [
       "<AxesSubplot:xlabel='DATE'>"
      ]
     },
     "execution_count": 35,
     "metadata": {},
     "output_type": "execute_result"
    },
    {
     "data": {
      "image/png": "[encoded data removed]",
      "text/plain": [
       "<Figure size 640x480 with 1 Axes>"
      ]
     },
     "metadata": {},
     "output_type": "display_data"
    }
   ],
   "source": [
    "df_new.plot()"
   ]
  },
  {
   "cell_type": "markdown",
   "id": "1c88f107",
   "metadata": {},
   "source": [
    " # Test Statistic - Adfuller test"
   ]
  },
  {
   "cell_type": "code",
   "execution_count": 36,
   "id": "1f1ee41f",
   "metadata": {},
   "outputs": [],
   "source": [
    "from statsmodels.tsa.stattools import adfuller"
   ]
  },
  {
   "cell_type": "code",
   "execution_count": 37,
   "id": "952d7afb",
   "metadata": {},
   "outputs": [],
   "source": [
    "result=adfuller(df_new ['AvgTemp'])\n",
    "pvalue = result[1]"
   ]
  },
  {
   "cell_type": "code",
   "execution_count": 38,
   "id": "b82497a4",
   "metadata": {},
   "outputs": [
    {
     "data": {
      "text/plain": [
       "7.13047237743004e-12"
      ]
     },
     "execution_count": 38,
     "metadata": {},
     "output_type": "execute_result"
    }
   ],
   "source": [
    "pvalue"
   ]
  },
  {
   "cell_type": "code",
   "execution_count": 39,
   "id": "bcb47ef1",
   "metadata": {},
   "outputs": [
    {
     "name": "stdout",
     "output_type": "stream",
     "text": [
      "we accept null hypothesis- data is stationary\n"
     ]
    }
   ],
   "source": [
    "if pvalue<0.05:\n",
    "    print('we accept null hypothesis- data is stationary')\n",
    "    \n",
    "else:\n",
    "    print('we reject null hypothesis- data is not stationary')"
   ]
  },
  {
   "cell_type": "markdown",
   "id": "d62ae910",
   "metadata": {},
   "source": [
    "# Rolling Mean"
   ]
  },
  {
   "cell_type": "code",
   "execution_count": 40,
   "id": "6fb014ea",
   "metadata": {},
   "outputs": [],
   "source": [
    "rolling_mean = df_new.rolling(window=365).mean()\n",
    "rolling_mean_detrended = df_new-rolling_mean"
   ]
  },
  {
   "cell_type": "code",
   "execution_count": 41,
   "id": "1ee966a7",
   "metadata": {},
   "outputs": [
    {
     "data": {
      "text/html": [
       "<div>\n",
       "<style scoped>\n",
       "    .dataframe tbody tr th:only-of-type {\n",
       "        vertical-align: middle;\n",
       "    }\n",
       "\n",
       "    .dataframe tbody tr th {\n",
       "        vertical-align: top;\n",
       "    }\n",
       "\n",
       "    .dataframe thead th {\n",
       "        text-align: right;\n",
       "    }\n",
       "</style>\n",
       "<table border=\"1\" class=\"dataframe\">\n",
       "  <thead>\n",
       "    <tr style=\"text-align: right;\">\n",
       "      <th></th>\n",
       "      <th>AvgTemp</th>\n",
       "    </tr>\n",
       "    <tr>\n",
       "      <th>DATE</th>\n",
       "      <th></th>\n",
       "    </tr>\n",
       "  </thead>\n",
       "  <tbody>\n",
       "    <tr>\n",
       "      <th>2014-01-01</th>\n",
       "      <td>NaN</td>\n",
       "    </tr>\n",
       "    <tr>\n",
       "      <th>2014-01-02</th>\n",
       "      <td>NaN</td>\n",
       "    </tr>\n",
       "    <tr>\n",
       "      <th>2014-01-03</th>\n",
       "      <td>NaN</td>\n",
       "    </tr>\n",
       "    <tr>\n",
       "      <th>2014-01-04</th>\n",
       "      <td>NaN</td>\n",
       "    </tr>\n",
       "    <tr>\n",
       "      <th>2014-01-05</th>\n",
       "      <td>NaN</td>\n",
       "    </tr>\n",
       "    <tr>\n",
       "      <th>...</th>\n",
       "      <td>...</td>\n",
       "    </tr>\n",
       "    <tr>\n",
       "      <th>2018-12-26</th>\n",
       "      <td>-6.205479</td>\n",
       "    </tr>\n",
       "    <tr>\n",
       "      <th>2018-12-27</th>\n",
       "      <td>-7.189041</td>\n",
       "    </tr>\n",
       "    <tr>\n",
       "      <th>2018-12-28</th>\n",
       "      <td>-6.180822</td>\n",
       "    </tr>\n",
       "    <tr>\n",
       "      <th>2018-12-29</th>\n",
       "      <td>-4.178082</td>\n",
       "    </tr>\n",
       "    <tr>\n",
       "      <th>2018-12-30</th>\n",
       "      <td>-0.183562</td>\n",
       "    </tr>\n",
       "  </tbody>\n",
       "</table>\n",
       "<p>1825 rows × 1 columns</p>\n",
       "</div>"
      ],
      "text/plain": [
       "             AvgTemp\n",
       "DATE                \n",
       "2014-01-01       NaN\n",
       "2014-01-02       NaN\n",
       "2014-01-03       NaN\n",
       "2014-01-04       NaN\n",
       "2014-01-05       NaN\n",
       "...              ...\n",
       "2018-12-26 -6.205479\n",
       "2018-12-27 -7.189041\n",
       "2018-12-28 -6.180822\n",
       "2018-12-29 -4.178082\n",
       "2018-12-30 -0.183562\n",
       "\n",
       "[1825 rows x 1 columns]"
      ]
     },
     "execution_count": 41,
     "metadata": {},
     "output_type": "execute_result"
    }
   ],
   "source": [
    "rolling_mean_detrended"
   ]
  },
  {
   "cell_type": "markdown",
   "id": "8c8b426a",
   "metadata": {},
   "source": [
    "# Plotting on Graph"
   ]
  },
  {
   "cell_type": "code",
   "execution_count": 42,
   "id": "084ada47",
   "metadata": {},
   "outputs": [
    {
     "data": {
      "text/plain": [
       "<AxesSubplot:title={'center':'Original Data'}, xlabel='DATE'>"
      ]
     },
     "execution_count": 42,
     "metadata": {},
     "output_type": "execute_result"
    },
    {
     "data": {
      "image/png": "[encoded data removed]",
      "text/plain": [
       "<Figure size 1200x400 with 2 Axes>"
      ]
     },
     "metadata": {},
     "output_type": "display_data"
    }
   ],
   "source": [
    "ax1 = plt.subplot(121)\n",
    "rolling_mean_detrended.plot(figsize=(12,4),color='tab:red',\n",
    "                           title='Difference in Rolling Mean',ax=ax1)\n",
    "\n",
    "ax2 = plt.subplot(122)\n",
    "df_new.plot(figsize=(12,4),color='tab:red',\n",
    "                           title='Original Data',ax=ax2)"
   ]
  },
  {
   "cell_type": "markdown",
   "id": "afd82cfb",
   "metadata": {},
   "source": [
    "# Decomposition"
   ]
  },
  {
   "cell_type": "code",
   "execution_count": 43,
   "id": "9bdc0668",
   "metadata": {},
   "outputs": [],
   "source": [
    "from statsmodels.tsa.seasonal import seasonal_decompose"
   ]
  },
  {
   "cell_type": "code",
   "execution_count": 44,
   "id": "7b2755d9",
   "metadata": {},
   "outputs": [],
   "source": [
    "decompose_result = seasonal_decompose(rolling_mean_detrended.dropna())"
   ]
  },
  {
   "cell_type": "code",
   "execution_count": 45,
   "id": "57cfef87",
   "metadata": {},
   "outputs": [
    {
     "data": {
      "image/png": "[encoded data removed]",
      "text/plain": [
       "<Figure size 640x480 with 4 Axes>"
      ]
     },
     "metadata": {},
     "output_type": "display_data"
    }
   ],
   "source": [
    "decompose_result.plot();"
   ]
  },
  {
   "cell_type": "markdown",
   "id": "fbf2ab43",
   "metadata": {},
   "source": [
    "# Remove seasonality"
   ]
  },
  {
   "cell_type": "code",
   "execution_count": 46,
   "id": "54e362f5",
   "metadata": {},
   "outputs": [
    {
     "data": {
      "text/html": [
       "<div>\n",
       "<style scoped>\n",
       "    .dataframe tbody tr th:only-of-type {\n",
       "        vertical-align: middle;\n",
       "    }\n",
       "\n",
       "    .dataframe tbody tr th {\n",
       "        vertical-align: top;\n",
       "    }\n",
       "\n",
       "    .dataframe thead th {\n",
       "        text-align: right;\n",
       "    }\n",
       "</style>\n",
       "<table border=\"1\" class=\"dataframe\">\n",
       "  <thead>\n",
       "    <tr style=\"text-align: right;\">\n",
       "      <th></th>\n",
       "      <th>AvgTemp</th>\n",
       "    </tr>\n",
       "    <tr>\n",
       "      <th>DATE</th>\n",
       "      <th></th>\n",
       "    </tr>\n",
       "  </thead>\n",
       "  <tbody>\n",
       "    <tr>\n",
       "      <th>2014-01-01</th>\n",
       "      <td>NaN</td>\n",
       "    </tr>\n",
       "    <tr>\n",
       "      <th>2014-01-02</th>\n",
       "      <td>NaN</td>\n",
       "    </tr>\n",
       "    <tr>\n",
       "      <th>2014-01-03</th>\n",
       "      <td>NaN</td>\n",
       "    </tr>\n",
       "    <tr>\n",
       "      <th>2014-01-04</th>\n",
       "      <td>NaN</td>\n",
       "    </tr>\n",
       "    <tr>\n",
       "      <th>2014-01-05</th>\n",
       "      <td>NaN</td>\n",
       "    </tr>\n",
       "    <tr>\n",
       "      <th>2014-01-06</th>\n",
       "      <td>NaN</td>\n",
       "    </tr>\n",
       "    <tr>\n",
       "      <th>2014-01-07</th>\n",
       "      <td>NaN</td>\n",
       "    </tr>\n",
       "    <tr>\n",
       "      <th>2014-01-08</th>\n",
       "      <td>NaN</td>\n",
       "    </tr>\n",
       "    <tr>\n",
       "      <th>2014-01-09</th>\n",
       "      <td>NaN</td>\n",
       "    </tr>\n",
       "    <tr>\n",
       "      <th>2014-01-10</th>\n",
       "      <td>NaN</td>\n",
       "    </tr>\n",
       "    <tr>\n",
       "      <th>2014-01-11</th>\n",
       "      <td>NaN</td>\n",
       "    </tr>\n",
       "    <tr>\n",
       "      <th>2014-01-12</th>\n",
       "      <td>NaN</td>\n",
       "    </tr>\n",
       "    <tr>\n",
       "      <th>2014-01-13</th>\n",
       "      <td>NaN</td>\n",
       "    </tr>\n",
       "    <tr>\n",
       "      <th>2014-01-14</th>\n",
       "      <td>NaN</td>\n",
       "    </tr>\n",
       "    <tr>\n",
       "      <th>2014-01-15</th>\n",
       "      <td>NaN</td>\n",
       "    </tr>\n",
       "    <tr>\n",
       "      <th>2014-01-16</th>\n",
       "      <td>NaN</td>\n",
       "    </tr>\n",
       "    <tr>\n",
       "      <th>2014-01-17</th>\n",
       "      <td>NaN</td>\n",
       "    </tr>\n",
       "    <tr>\n",
       "      <th>2014-01-18</th>\n",
       "      <td>NaN</td>\n",
       "    </tr>\n",
       "    <tr>\n",
       "      <th>2014-01-19</th>\n",
       "      <td>NaN</td>\n",
       "    </tr>\n",
       "    <tr>\n",
       "      <th>2014-01-20</th>\n",
       "      <td>NaN</td>\n",
       "    </tr>\n",
       "    <tr>\n",
       "      <th>2014-01-21</th>\n",
       "      <td>NaN</td>\n",
       "    </tr>\n",
       "    <tr>\n",
       "      <th>2014-01-22</th>\n",
       "      <td>NaN</td>\n",
       "    </tr>\n",
       "    <tr>\n",
       "      <th>2014-01-23</th>\n",
       "      <td>NaN</td>\n",
       "    </tr>\n",
       "    <tr>\n",
       "      <th>2014-01-24</th>\n",
       "      <td>NaN</td>\n",
       "    </tr>\n",
       "    <tr>\n",
       "      <th>2014-01-25</th>\n",
       "      <td>NaN</td>\n",
       "    </tr>\n",
       "    <tr>\n",
       "      <th>2014-01-26</th>\n",
       "      <td>NaN</td>\n",
       "    </tr>\n",
       "    <tr>\n",
       "      <th>2014-01-27</th>\n",
       "      <td>NaN</td>\n",
       "    </tr>\n",
       "    <tr>\n",
       "      <th>2014-01-28</th>\n",
       "      <td>NaN</td>\n",
       "    </tr>\n",
       "    <tr>\n",
       "      <th>2014-01-29</th>\n",
       "      <td>NaN</td>\n",
       "    </tr>\n",
       "    <tr>\n",
       "      <th>2014-01-30</th>\n",
       "      <td>NaN</td>\n",
       "    </tr>\n",
       "    <tr>\n",
       "      <th>2014-01-31</th>\n",
       "      <td>NaN</td>\n",
       "    </tr>\n",
       "    <tr>\n",
       "      <th>2014-02-01</th>\n",
       "      <td>NaN</td>\n",
       "    </tr>\n",
       "    <tr>\n",
       "      <th>2014-02-02</th>\n",
       "      <td>NaN</td>\n",
       "    </tr>\n",
       "    <tr>\n",
       "      <th>2014-02-03</th>\n",
       "      <td>NaN</td>\n",
       "    </tr>\n",
       "    <tr>\n",
       "      <th>2014-02-04</th>\n",
       "      <td>NaN</td>\n",
       "    </tr>\n",
       "  </tbody>\n",
       "</table>\n",
       "</div>"
      ],
      "text/plain": [
       "            AvgTemp\n",
       "DATE               \n",
       "2014-01-01      NaN\n",
       "2014-01-02      NaN\n",
       "2014-01-03      NaN\n",
       "2014-01-04      NaN\n",
       "2014-01-05      NaN\n",
       "2014-01-06      NaN\n",
       "2014-01-07      NaN\n",
       "2014-01-08      NaN\n",
       "2014-01-09      NaN\n",
       "2014-01-10      NaN\n",
       "2014-01-11      NaN\n",
       "2014-01-12      NaN\n",
       "2014-01-13      NaN\n",
       "2014-01-14      NaN\n",
       "2014-01-15      NaN\n",
       "2014-01-16      NaN\n",
       "2014-01-17      NaN\n",
       "2014-01-18      NaN\n",
       "2014-01-19      NaN\n",
       "2014-01-20      NaN\n",
       "2014-01-21      NaN\n",
       "2014-01-22      NaN\n",
       "2014-01-23      NaN\n",
       "2014-01-24      NaN\n",
       "2014-01-25      NaN\n",
       "2014-01-26      NaN\n",
       "2014-01-27      NaN\n",
       "2014-01-28      NaN\n",
       "2014-01-29      NaN\n",
       "2014-01-30      NaN\n",
       "2014-01-31      NaN\n",
       "2014-02-01      NaN\n",
       "2014-02-02      NaN\n",
       "2014-02-03      NaN\n",
       "2014-02-04      NaN"
      ]
     },
     "execution_count": 46,
     "metadata": {},
     "output_type": "execute_result"
    }
   ],
   "source": [
    "rolling_mean_detrended.shift()[:35]"
   ]
  },
  {
   "cell_type": "code",
   "execution_count": 59,
   "id": "3c2a257c",
   "metadata": {},
   "outputs": [],
   "source": [
    "rolling_mean_detrended_difference  = rolling_mean_detrended-rolling_mean_detrended.shift()"
   ]
  },
  {
   "cell_type": "code",
   "execution_count": 60,
   "id": "f7bdb9ad",
   "metadata": {},
   "outputs": [
    {
     "data": {
      "text/plain": [
       "<AxesSubplot:title={'center':'Original Data'}, xlabel='DATE'>"
      ]
     },
     "execution_count": 60,
     "metadata": {},
     "output_type": "execute_result"
    },
    {
     "data": {
      "image/png": "[encoded data removed]",
      "text/plain": [
       "<Figure size 1200x400 with 2 Axes>"
      ]
     },
     "metadata": {},
     "output_type": "display_data"
    }
   ],
   "source": [
    "ax1 = plt.subplot(121)\n",
    "rolling_mean_detrended.plot(figsize=(12,4),color='tab:red',\n",
    "                           title='Difference in Rolling Mean Detrended',ax=ax1)\n",
    "\n",
    "ax2 = plt.subplot(122)\n",
    "df_new.plot(figsize=(12,4),color='tab:red',\n",
    "                           title='Original Data',ax=ax2)"
   ]
  },
  {
   "cell_type": "code",
   "execution_count": 61,
   "id": "3e787a82",
   "metadata": {},
   "outputs": [
    {
     "name": "stdout",
     "output_type": "stream",
     "text": [
      "Requirement already satisfied: pmdarima in c:\\users\\avita\\anaconda3\\lib\\site-packages (2.0.3)\n",
      "Requirement already satisfied: scipy>=1.3.2 in c:\\users\\avita\\anaconda3\\lib\\site-packages (from pmdarima) (1.9.1)\n",
      "Requirement already satisfied: setuptools!=50.0.0,>=38.6.0 in c:\\users\\avita\\anaconda3\\lib\\site-packages (from pmdarima) (63.4.1)\n",
      "Requirement already satisfied: pandas>=0.19 in c:\\users\\avita\\anaconda3\\lib\\site-packages (from pmdarima) (1.4.4)\n",
      "Requirement already satisfied: joblib>=0.11 in c:\\users\\avita\\anaconda3\\lib\\site-packages (from pmdarima) (1.3.2)\n",
      "Requirement already satisfied: statsmodels>=0.13.2 in c:\\users\\avita\\anaconda3\\lib\\site-packages (from pmdarima) (0.13.2)\n",
      "Requirement already satisfied: Cython!=0.29.18,!=0.29.31,>=0.29 in c:\\users\\avita\\anaconda3\\lib\\site-packages (from pmdarima) (0.29.32)\n",
      "Requirement already satisfied: numpy>=1.21.2 in c:\\users\\avita\\anaconda3\\lib\\site-packages (from pmdarima) (1.24.4)\n",
      "Requirement already satisfied: scikit-learn>=0.22 in c:\\users\\avita\\anaconda3\\lib\\site-packages (from pmdarima) (1.3.1)\n",
      "Requirement already satisfied: urllib3 in c:\\users\\avita\\anaconda3\\lib\\site-packages (from pmdarima) (1.26.11)\n",
      "Requirement already satisfied: python-dateutil>=2.8.1 in c:\\users\\avita\\anaconda3\\lib\\site-packages (from pandas>=0.19->pmdarima) (2.8.2)\n",
      "Requirement already satisfied: pytz>=2020.1 in c:\\users\\avita\\anaconda3\\lib\\site-packages (from pandas>=0.19->pmdarima) (2022.1)\n",
      "Requirement already satisfied: threadpoolctl>=2.0.0 in c:\\users\\avita\\anaconda3\\lib\\site-packages (from scikit-learn>=0.22->pmdarima) (2.2.0)\n",
      "Requirement already satisfied: patsy>=0.5.2 in c:\\users\\avita\\anaconda3\\lib\\site-packages (from statsmodels>=0.13.2->pmdarima) (0.5.2)\n",
      "Requirement already satisfied: packaging>=21.3 in c:\\users\\avita\\anaconda3\\lib\\site-packages (from statsmodels>=0.13.2->pmdarima) (21.3)\n",
      "Requirement already satisfied: pyparsing!=3.0.5,>=2.0.2 in c:\\users\\avita\\anaconda3\\lib\\site-packages (from packaging>=21.3->statsmodels>=0.13.2->pmdarima) (3.0.9)\n",
      "Requirement already satisfied: six in c:\\users\\avita\\anaconda3\\lib\\site-packages (from patsy>=0.5.2->statsmodels>=0.13.2->pmdarima) (1.16.0)\n"
     ]
    }
   ],
   "source": [
    "!pip install pmdarima"
   ]
  },
  {
   "cell_type": "code",
   "execution_count": 62,
   "id": "a9cb25a2",
   "metadata": {},
   "outputs": [],
   "source": [
    "from pmdarima import auto_arima"
   ]
  },
  {
   "cell_type": "code",
   "execution_count": 63,
   "id": "fb752021",
   "metadata": {},
   "outputs": [
    {
     "ename": "NameError",
     "evalue": "name 'rolling_mean_detrended_differnce' is not defined",
     "output_type": "error",
     "traceback": [
      "\u001b[1;31m---------------------------------------------------------------------------\u001b[0m",
      "\u001b[1;31mNameError\u001b[0m                                 Traceback (most recent call last)",
      "\u001b[1;32m~\\AppData\\Local\\Temp\\ipykernel_17496\\2758313135.py\u001b[0m in \u001b[0;36m<module>\u001b[1;34m\u001b[0m\n\u001b[1;32m----> 1\u001b[1;33m \u001b[0morder\u001b[0m \u001b[1;33m=\u001b[0m \u001b[0mauto_arima\u001b[0m\u001b[1;33m(\u001b[0m\u001b[0mrolling_mean_detrended_differnce\u001b[0m\u001b[1;33m[\u001b[0m\u001b[1;34m'AvgTemp'\u001b[0m\u001b[1;33m]\u001b[0m\u001b[1;33m)\u001b[0m\u001b[1;33m\u001b[0m\u001b[1;33m\u001b[0m\u001b[0m\n\u001b[0m",
      "\u001b[1;31mNameError\u001b[0m: name 'rolling_mean_detrended_differnce' is not defined"
     ]
    }
   ],
   "source": [
    "order = auto_arima(rolling_mean_detrended_differnce['AvgTemp'])"
   ]
  },
  {
   "cell_type": "code",
   "execution_count": 64,
   "id": "06256e5a",
   "metadata": {},
   "outputs": [
    {
     "ename": "NameError",
     "evalue": "name 'order' is not defined",
     "output_type": "error",
     "traceback": [
      "\u001b[1;31m---------------------------------------------------------------------------\u001b[0m",
      "\u001b[1;31mNameError\u001b[0m                                 Traceback (most recent call last)",
      "\u001b[1;32m~\\AppData\\Local\\Temp\\ipykernel_17496\\3794213679.py\u001b[0m in \u001b[0;36m<module>\u001b[1;34m\u001b[0m\n\u001b[1;32m----> 1\u001b[1;33m \u001b[0morder\u001b[0m\u001b[1;33m.\u001b[0m\u001b[0msummary\u001b[0m\u001b[1;33m(\u001b[0m\u001b[1;33m)\u001b[0m\u001b[1;33m\u001b[0m\u001b[1;33m\u001b[0m\u001b[0m\n\u001b[0m",
      "\u001b[1;31mNameError\u001b[0m: name 'order' is not defined"
     ]
    }
   ],
   "source": [
    "order.summary()"
   ]
  },
  {
   "cell_type": "code",
   "execution_count": null,
   "id": "72d41fd9",
   "metadata": {},
   "outputs": [],
   "source": [
    "from statsmodels.tsa.arima.model import ARIMA"
   ]
  },
  {
   "cell_type": "code",
   "execution_count": null,
   "id": "a480277a",
   "metadata": {},
   "outputs": [],
   "source": [
    "train =  rolling_mean_detrended_diff.iloc[:1000]['#AvgTemp']\n",
    "test =  rolling_mean_detrended_diff.iloc[1000:]['#AvgTemp']"
   ]
  },
  {
   "cell_type": "code",
   "execution_count": null,
   "id": "b9d3f068",
   "metadata": {},
   "outputs": [],
   "source": [
    "train"
   ]
  },
  {
   "cell_type": "code",
   "execution_count": null,
   "id": "c840ba53",
   "metadata": {},
   "outputs": [],
   "source": [
    "test"
   ]
  },
  {
   "cell_type": "code",
   "execution_count": null,
   "id": "725b0b0d",
   "metadata": {},
   "outputs": [],
   "source": [
    "model = ARIMA(train,order=(3,0,3)\n",
    "model_fit = model.fit() "
   ]
  },
  {
   "cell_type": "code",
   "execution_count": null,
   "id": "620f2519",
   "metadata": {},
   "outputs": [],
   "source": [
    "rolling_mean_detrended['predict']= model_fit.predicts(start=len(train),end=len(train)+len(test)-1,dynamic=True)"
   ]
  },
  {
   "cell_type": "code",
   "execution_count": null,
   "id": "c63f583d",
   "metadata": {},
   "outputs": [],
   "source": [
    "rolling_mean_detrended_difference[['#AvgTemp','predict']].plot()"
   ]
  },
  {
   "cell_type": "code",
   "execution_count": null,
   "id": "217ef57f",
   "metadata": {},
   "outputs": [],
   "source": [
    "from statsmodels.tsa.statespace.sarimax import SARIMAXParams,SARIMAXResults"
   ]
  },
  {
   "cell_type": "code",
   "execution_count": null,
   "id": "2047694e",
   "metadata": {},
   "outputs": [],
   "source": [
    "model = SARIMAX(train,order=(3,0,3),seasonal_order=(3,0,3))"
   ]
  },
  {
   "cell_type": "code",
   "execution_count": null,
   "id": "bafcdb44",
   "metadata": {},
   "outputs": [],
   "source": [
    "rolling_mean_detrended['predict']= model_fit.predicts(start=len(train),end=len(train)+len(test)-1,dynamic=True)"
   ]
  },
  {
   "cell_type": "code",
   "execution_count": 55,
   "id": "dcc083ff",
   "metadata": {},
   "outputs": [
    {
     "ename": "KeyError",
     "evalue": "\"None of [Index(['#AvgTemp', 'predict'], dtype='object')] are in the [columns]\"",
     "output_type": "error",
     "traceback": [
      "\u001b[1;31m---------------------------------------------------------------------------\u001b[0m",
      "\u001b[1;31mKeyError\u001b[0m                                  Traceback (most recent call last)",
      "\u001b[1;32m~\\AppData\\Local\\Temp\\ipykernel_17496\\3730195156.py\u001b[0m in \u001b[0;36m<module>\u001b[1;34m\u001b[0m\n\u001b[1;32m----> 1\u001b[1;33m \u001b[0mrolling_mean_detrended_difference\u001b[0m\u001b[1;33m[\u001b[0m\u001b[1;33m[\u001b[0m\u001b[1;34m'#AvgTemp'\u001b[0m\u001b[1;33m,\u001b[0m\u001b[1;34m'predict'\u001b[0m\u001b[1;33m]\u001b[0m\u001b[1;33m]\u001b[0m\u001b[1;33m.\u001b[0m\u001b[0mplot\u001b[0m\u001b[1;33m(\u001b[0m\u001b[1;33m)\u001b[0m\u001b[1;33m\u001b[0m\u001b[1;33m\u001b[0m\u001b[0m\n\u001b[0m",
      "\u001b[1;32m~\\anaconda3\\lib\\site-packages\\pandas\\core\\frame.py\u001b[0m in \u001b[0;36m__getitem__\u001b[1;34m(self, key)\u001b[0m\n\u001b[0;32m   3509\u001b[0m             \u001b[1;32mif\u001b[0m \u001b[0mis_iterator\u001b[0m\u001b[1;33m(\u001b[0m\u001b[0mkey\u001b[0m\u001b[1;33m)\u001b[0m\u001b[1;33m:\u001b[0m\u001b[1;33m\u001b[0m\u001b[1;33m\u001b[0m\u001b[0m\n\u001b[0;32m   3510\u001b[0m                 \u001b[0mkey\u001b[0m \u001b[1;33m=\u001b[0m \u001b[0mlist\u001b[0m\u001b[1;33m(\u001b[0m\u001b[0mkey\u001b[0m\u001b[1;33m)\u001b[0m\u001b[1;33m\u001b[0m\u001b[1;33m\u001b[0m\u001b[0m\n\u001b[1;32m-> 3511\u001b[1;33m             \u001b[0mindexer\u001b[0m \u001b[1;33m=\u001b[0m \u001b[0mself\u001b[0m\u001b[1;33m.\u001b[0m\u001b[0mcolumns\u001b[0m\u001b[1;33m.\u001b[0m\u001b[0m_get_indexer_strict\u001b[0m\u001b[1;33m(\u001b[0m\u001b[0mkey\u001b[0m\u001b[1;33m,\u001b[0m \u001b[1;34m\"columns\"\u001b[0m\u001b[1;33m)\u001b[0m\u001b[1;33m[\u001b[0m\u001b[1;36m1\u001b[0m\u001b[1;33m]\u001b[0m\u001b[1;33m\u001b[0m\u001b[1;33m\u001b[0m\u001b[0m\n\u001b[0m\u001b[0;32m   3512\u001b[0m \u001b[1;33m\u001b[0m\u001b[0m\n\u001b[0;32m   3513\u001b[0m         \u001b[1;31m# take() does not accept boolean indexers\u001b[0m\u001b[1;33m\u001b[0m\u001b[1;33m\u001b[0m\u001b[0m\n",
      "\u001b[1;32m~\\anaconda3\\lib\\site-packages\\pandas\\core\\indexes\\base.py\u001b[0m in \u001b[0;36m_get_indexer_strict\u001b[1;34m(self, key, axis_name)\u001b[0m\n\u001b[0;32m   5794\u001b[0m             \u001b[0mkeyarr\u001b[0m\u001b[1;33m,\u001b[0m \u001b[0mindexer\u001b[0m\u001b[1;33m,\u001b[0m \u001b[0mnew_indexer\u001b[0m \u001b[1;33m=\u001b[0m \u001b[0mself\u001b[0m\u001b[1;33m.\u001b[0m\u001b[0m_reindex_non_unique\u001b[0m\u001b[1;33m(\u001b[0m\u001b[0mkeyarr\u001b[0m\u001b[1;33m)\u001b[0m\u001b[1;33m\u001b[0m\u001b[1;33m\u001b[0m\u001b[0m\n\u001b[0;32m   5795\u001b[0m \u001b[1;33m\u001b[0m\u001b[0m\n\u001b[1;32m-> 5796\u001b[1;33m         \u001b[0mself\u001b[0m\u001b[1;33m.\u001b[0m\u001b[0m_raise_if_missing\u001b[0m\u001b[1;33m(\u001b[0m\u001b[0mkeyarr\u001b[0m\u001b[1;33m,\u001b[0m \u001b[0mindexer\u001b[0m\u001b[1;33m,\u001b[0m \u001b[0maxis_name\u001b[0m\u001b[1;33m)\u001b[0m\u001b[1;33m\u001b[0m\u001b[1;33m\u001b[0m\u001b[0m\n\u001b[0m\u001b[0;32m   5797\u001b[0m \u001b[1;33m\u001b[0m\u001b[0m\n\u001b[0;32m   5798\u001b[0m         \u001b[0mkeyarr\u001b[0m \u001b[1;33m=\u001b[0m \u001b[0mself\u001b[0m\u001b[1;33m.\u001b[0m\u001b[0mtake\u001b[0m\u001b[1;33m(\u001b[0m\u001b[0mindexer\u001b[0m\u001b[1;33m)\u001b[0m\u001b[1;33m\u001b[0m\u001b[1;33m\u001b[0m\u001b[0m\n",
      "\u001b[1;32m~\\anaconda3\\lib\\site-packages\\pandas\\core\\indexes\\base.py\u001b[0m in \u001b[0;36m_raise_if_missing\u001b[1;34m(self, key, indexer, axis_name)\u001b[0m\n\u001b[0;32m   5854\u001b[0m                 \u001b[1;32mif\u001b[0m \u001b[0muse_interval_msg\u001b[0m\u001b[1;33m:\u001b[0m\u001b[1;33m\u001b[0m\u001b[1;33m\u001b[0m\u001b[0m\n\u001b[0;32m   5855\u001b[0m                     \u001b[0mkey\u001b[0m \u001b[1;33m=\u001b[0m \u001b[0mlist\u001b[0m\u001b[1;33m(\u001b[0m\u001b[0mkey\u001b[0m\u001b[1;33m)\u001b[0m\u001b[1;33m\u001b[0m\u001b[1;33m\u001b[0m\u001b[0m\n\u001b[1;32m-> 5856\u001b[1;33m                 \u001b[1;32mraise\u001b[0m \u001b[0mKeyError\u001b[0m\u001b[1;33m(\u001b[0m\u001b[1;34mf\"None of [{key}] are in the [{axis_name}]\"\u001b[0m\u001b[1;33m)\u001b[0m\u001b[1;33m\u001b[0m\u001b[1;33m\u001b[0m\u001b[0m\n\u001b[0m\u001b[0;32m   5857\u001b[0m \u001b[1;33m\u001b[0m\u001b[0m\n\u001b[0;32m   5858\u001b[0m             \u001b[0mnot_found\u001b[0m \u001b[1;33m=\u001b[0m \u001b[0mlist\u001b[0m\u001b[1;33m(\u001b[0m\u001b[0mensure_index\u001b[0m\u001b[1;33m(\u001b[0m\u001b[0mkey\u001b[0m\u001b[1;33m)\u001b[0m\u001b[1;33m[\u001b[0m\u001b[0mmissing_mask\u001b[0m\u001b[1;33m.\u001b[0m\u001b[0mnonzero\u001b[0m\u001b[1;33m(\u001b[0m\u001b[1;33m)\u001b[0m\u001b[1;33m[\u001b[0m\u001b[1;36m0\u001b[0m\u001b[1;33m]\u001b[0m\u001b[1;33m]\u001b[0m\u001b[1;33m.\u001b[0m\u001b[0munique\u001b[0m\u001b[1;33m(\u001b[0m\u001b[1;33m)\u001b[0m\u001b[1;33m)\u001b[0m\u001b[1;33m\u001b[0m\u001b[1;33m\u001b[0m\u001b[0m\n",
      "\u001b[1;31mKeyError\u001b[0m: \"None of [Index(['#AvgTemp', 'predict'], dtype='object')] are in the [columns]\""
     ]
    }
   ],
   "source": [
    "rolling_mean_detrended_difference[['#AvgTemp','predict']].plot()"
   ]
  },
  {
   "cell_type": "code",
   "execution_count": 65,
   "id": "6772864b",
   "metadata": {},
   "outputs": [],
   "source": [
    "df1 = pd.read_csv(r\"C:\\Users\\Avita\\Desktop\\Time-Series-DSAI Datasets\\stocks.csv\")"
   ]
  },
  {
   "cell_type": "code",
   "execution_count": 66,
   "id": "de7feb87",
   "metadata": {},
   "outputs": [
    {
     "data": {
      "text/html": [
       "<div>\n",
       "<style scoped>\n",
       "    .dataframe tbody tr th:only-of-type {\n",
       "        vertical-align: middle;\n",
       "    }\n",
       "\n",
       "    .dataframe tbody tr th {\n",
       "        vertical-align: top;\n",
       "    }\n",
       "\n",
       "    .dataframe thead th {\n",
       "        text-align: right;\n",
       "    }\n",
       "</style>\n",
       "<table border=\"1\" class=\"dataframe\">\n",
       "  <thead>\n",
       "    <tr style=\"text-align: right;\">\n",
       "      <th></th>\n",
       "      <th>Date</th>\n",
       "      <th>Open</th>\n",
       "      <th>High</th>\n",
       "      <th>Low</th>\n",
       "      <th>Close</th>\n",
       "    </tr>\n",
       "  </thead>\n",
       "  <tbody>\n",
       "    <tr>\n",
       "      <th>0</th>\n",
       "      <td>9/14/2018</td>\n",
       "      <td>2044.000000</td>\n",
       "      <td>2071.550049</td>\n",
       "      <td>2018.150024</td>\n",
       "      <td>2065.399902</td>\n",
       "    </tr>\n",
       "    <tr>\n",
       "      <th>1</th>\n",
       "      <td>9/17/2018</td>\n",
       "      <td>2070.000000</td>\n",
       "      <td>2077.800049</td>\n",
       "      <td>2054.550049</td>\n",
       "      <td>2074.149902</td>\n",
       "    </tr>\n",
       "    <tr>\n",
       "      <th>2</th>\n",
       "      <td>9/18/2018</td>\n",
       "      <td>2073.000000</td>\n",
       "      <td>2078.800049</td>\n",
       "      <td>2057.600098</td>\n",
       "      <td>2070.750000</td>\n",
       "    </tr>\n",
       "    <tr>\n",
       "      <th>3</th>\n",
       "      <td>9/19/2018</td>\n",
       "      <td>2071.899902</td>\n",
       "      <td>2089.000000</td>\n",
       "      <td>2066.850098</td>\n",
       "      <td>2077.899902</td>\n",
       "    </tr>\n",
       "    <tr>\n",
       "      <th>4</th>\n",
       "      <td>9/21/2018</td>\n",
       "      <td>2077.000000</td>\n",
       "      <td>2121.000000</td>\n",
       "      <td>2050.149902</td>\n",
       "      <td>2103.149902</td>\n",
       "    </tr>\n",
       "    <tr>\n",
       "      <th>...</th>\n",
       "      <td>...</td>\n",
       "      <td>...</td>\n",
       "      <td>...</td>\n",
       "      <td>...</td>\n",
       "      <td>...</td>\n",
       "    </tr>\n",
       "    <tr>\n",
       "      <th>1230</th>\n",
       "      <td>9/7/2023</td>\n",
       "      <td>3430.800049</td>\n",
       "      <td>3460.000000</td>\n",
       "      <td>3422.300049</td>\n",
       "      <td>3455.250000</td>\n",
       "    </tr>\n",
       "    <tr>\n",
       "      <th>1231</th>\n",
       "      <td>9/8/2023</td>\n",
       "      <td>3455.250000</td>\n",
       "      <td>3465.000000</td>\n",
       "      <td>3435.050049</td>\n",
       "      <td>3441.899902</td>\n",
       "    </tr>\n",
       "    <tr>\n",
       "      <th>1232</th>\n",
       "      <td>9/11/2023</td>\n",
       "      <td>3462.000000</td>\n",
       "      <td>3485.699951</td>\n",
       "      <td>3445.000000</td>\n",
       "      <td>3480.649902</td>\n",
       "    </tr>\n",
       "    <tr>\n",
       "      <th>1233</th>\n",
       "      <td>9/12/2023</td>\n",
       "      <td>3492.000000</td>\n",
       "      <td>3589.899902</td>\n",
       "      <td>3483.000000</td>\n",
       "      <td>3580.800049</td>\n",
       "    </tr>\n",
       "    <tr>\n",
       "      <th>1234</th>\n",
       "      <td>9/13/2023</td>\n",
       "      <td>3571.100098</td>\n",
       "      <td>3588.850098</td>\n",
       "      <td>3545.000000</td>\n",
       "      <td>3567.850098</td>\n",
       "    </tr>\n",
       "  </tbody>\n",
       "</table>\n",
       "<p>1235 rows × 5 columns</p>\n",
       "</div>"
      ],
      "text/plain": [
       "           Date         Open         High          Low        Close\n",
       "0     9/14/2018  2044.000000  2071.550049  2018.150024  2065.399902\n",
       "1     9/17/2018  2070.000000  2077.800049  2054.550049  2074.149902\n",
       "2     9/18/2018  2073.000000  2078.800049  2057.600098  2070.750000\n",
       "3     9/19/2018  2071.899902  2089.000000  2066.850098  2077.899902\n",
       "4     9/21/2018  2077.000000  2121.000000  2050.149902  2103.149902\n",
       "...         ...          ...          ...          ...          ...\n",
       "1230   9/7/2023  3430.800049  3460.000000  3422.300049  3455.250000\n",
       "1231   9/8/2023  3455.250000  3465.000000  3435.050049  3441.899902\n",
       "1232  9/11/2023  3462.000000  3485.699951  3445.000000  3480.649902\n",
       "1233  9/12/2023  3492.000000  3589.899902  3483.000000  3580.800049\n",
       "1234  9/13/2023  3571.100098  3588.850098  3545.000000  3567.850098\n",
       "\n",
       "[1235 rows x 5 columns]"
      ]
     },
     "execution_count": 66,
     "metadata": {},
     "output_type": "execute_result"
    }
   ],
   "source": [
    "df1"
   ]
  },
  {
   "cell_type": "code",
   "execution_count": 68,
   "id": "55421c24",
   "metadata": {},
   "outputs": [],
   "source": [
    "df1['Date'] = pd.to_datetime(df1.Date,errors='ignore')"
   ]
  },
  {
   "cell_type": "code",
   "execution_count": 69,
   "id": "5132302c",
   "metadata": {},
   "outputs": [
    {
     "data": {
      "text/html": [
       "<div>\n",
       "<style scoped>\n",
       "    .dataframe tbody tr th:only-of-type {\n",
       "        vertical-align: middle;\n",
       "    }\n",
       "\n",
       "    .dataframe tbody tr th {\n",
       "        vertical-align: top;\n",
       "    }\n",
       "\n",
       "    .dataframe thead th {\n",
       "        text-align: right;\n",
       "    }\n",
       "</style>\n",
       "<table border=\"1\" class=\"dataframe\">\n",
       "  <thead>\n",
       "    <tr style=\"text-align: right;\">\n",
       "      <th></th>\n",
       "      <th>Date</th>\n",
       "      <th>Open</th>\n",
       "      <th>High</th>\n",
       "      <th>Low</th>\n",
       "      <th>Close</th>\n",
       "    </tr>\n",
       "  </thead>\n",
       "  <tbody>\n",
       "    <tr>\n",
       "      <th>0</th>\n",
       "      <td>2018-09-14</td>\n",
       "      <td>2044.000000</td>\n",
       "      <td>2071.550049</td>\n",
       "      <td>2018.150024</td>\n",
       "      <td>2065.399902</td>\n",
       "    </tr>\n",
       "    <tr>\n",
       "      <th>1</th>\n",
       "      <td>2018-09-17</td>\n",
       "      <td>2070.000000</td>\n",
       "      <td>2077.800049</td>\n",
       "      <td>2054.550049</td>\n",
       "      <td>2074.149902</td>\n",
       "    </tr>\n",
       "    <tr>\n",
       "      <th>2</th>\n",
       "      <td>2018-09-18</td>\n",
       "      <td>2073.000000</td>\n",
       "      <td>2078.800049</td>\n",
       "      <td>2057.600098</td>\n",
       "      <td>2070.750000</td>\n",
       "    </tr>\n",
       "    <tr>\n",
       "      <th>3</th>\n",
       "      <td>2018-09-19</td>\n",
       "      <td>2071.899902</td>\n",
       "      <td>2089.000000</td>\n",
       "      <td>2066.850098</td>\n",
       "      <td>2077.899902</td>\n",
       "    </tr>\n",
       "    <tr>\n",
       "      <th>4</th>\n",
       "      <td>2018-09-21</td>\n",
       "      <td>2077.000000</td>\n",
       "      <td>2121.000000</td>\n",
       "      <td>2050.149902</td>\n",
       "      <td>2103.149902</td>\n",
       "    </tr>\n",
       "    <tr>\n",
       "      <th>...</th>\n",
       "      <td>...</td>\n",
       "      <td>...</td>\n",
       "      <td>...</td>\n",
       "      <td>...</td>\n",
       "      <td>...</td>\n",
       "    </tr>\n",
       "    <tr>\n",
       "      <th>1230</th>\n",
       "      <td>2023-09-07</td>\n",
       "      <td>3430.800049</td>\n",
       "      <td>3460.000000</td>\n",
       "      <td>3422.300049</td>\n",
       "      <td>3455.250000</td>\n",
       "    </tr>\n",
       "    <tr>\n",
       "      <th>1231</th>\n",
       "      <td>2023-09-08</td>\n",
       "      <td>3455.250000</td>\n",
       "      <td>3465.000000</td>\n",
       "      <td>3435.050049</td>\n",
       "      <td>3441.899902</td>\n",
       "    </tr>\n",
       "    <tr>\n",
       "      <th>1232</th>\n",
       "      <td>2023-09-11</td>\n",
       "      <td>3462.000000</td>\n",
       "      <td>3485.699951</td>\n",
       "      <td>3445.000000</td>\n",
       "      <td>3480.649902</td>\n",
       "    </tr>\n",
       "    <tr>\n",
       "      <th>1233</th>\n",
       "      <td>2023-09-12</td>\n",
       "      <td>3492.000000</td>\n",
       "      <td>3589.899902</td>\n",
       "      <td>3483.000000</td>\n",
       "      <td>3580.800049</td>\n",
       "    </tr>\n",
       "    <tr>\n",
       "      <th>1234</th>\n",
       "      <td>2023-09-13</td>\n",
       "      <td>3571.100098</td>\n",
       "      <td>3588.850098</td>\n",
       "      <td>3545.000000</td>\n",
       "      <td>3567.850098</td>\n",
       "    </tr>\n",
       "  </tbody>\n",
       "</table>\n",
       "<p>1235 rows × 5 columns</p>\n",
       "</div>"
      ],
      "text/plain": [
       "           Date         Open         High          Low        Close\n",
       "0    2018-09-14  2044.000000  2071.550049  2018.150024  2065.399902\n",
       "1    2018-09-17  2070.000000  2077.800049  2054.550049  2074.149902\n",
       "2    2018-09-18  2073.000000  2078.800049  2057.600098  2070.750000\n",
       "3    2018-09-19  2071.899902  2089.000000  2066.850098  2077.899902\n",
       "4    2018-09-21  2077.000000  2121.000000  2050.149902  2103.149902\n",
       "...         ...          ...          ...          ...          ...\n",
       "1230 2023-09-07  3430.800049  3460.000000  3422.300049  3455.250000\n",
       "1231 2023-09-08  3455.250000  3465.000000  3435.050049  3441.899902\n",
       "1232 2023-09-11  3462.000000  3485.699951  3445.000000  3480.649902\n",
       "1233 2023-09-12  3492.000000  3589.899902  3483.000000  3580.800049\n",
       "1234 2023-09-13  3571.100098  3588.850098  3545.000000  3567.850098\n",
       "\n",
       "[1235 rows x 5 columns]"
      ]
     },
     "execution_count": 69,
     "metadata": {},
     "output_type": "execute_result"
    }
   ],
   "source": [
    "df1"
   ]
  },
  {
   "cell_type": "code",
   "execution_count": 71,
   "id": "d06f4226",
   "metadata": {},
   "outputs": [
    {
     "name": "stdout",
     "output_type": "stream",
     "text": [
      "<class 'pandas.core.frame.DataFrame'>\n",
      "RangeIndex: 1235 entries, 0 to 1234\n",
      "Data columns (total 5 columns):\n",
      " #   Column  Non-Null Count  Dtype         \n",
      "---  ------  --------------  -----         \n",
      " 0   Date    1235 non-null   datetime64[ns]\n",
      " 1   Open    1235 non-null   float64       \n",
      " 2   High    1235 non-null   float64       \n",
      " 3   Low     1235 non-null   float64       \n",
      " 4   Close   1235 non-null   float64       \n",
      "dtypes: datetime64[ns](1), float64(4)\n",
      "memory usage: 48.4 KB\n"
     ]
    }
   ],
   "source": [
    "df1.info()"
   ]
  },
  {
   "cell_type": "code",
   "execution_count": 76,
   "id": "b14f7f53",
   "metadata": {},
   "outputs": [
    {
     "data": {
      "text/plain": [
       "(1235, 5)"
      ]
     },
     "execution_count": 76,
     "metadata": {},
     "output_type": "execute_result"
    }
   ],
   "source": [
    "df1.shape"
   ]
  },
  {
   "cell_type": "code",
   "execution_count": 77,
   "id": "ca9a0b5a",
   "metadata": {},
   "outputs": [
    {
     "data": {
      "text/plain": [
       "Date     0\n",
       "Open     0\n",
       "High     0\n",
       "Low      0\n",
       "Close    0\n",
       "dtype: int64"
      ]
     },
     "execution_count": 77,
     "metadata": {},
     "output_type": "execute_result"
    }
   ],
   "source": [
    "df1.isnull().sum()"
   ]
  },
  {
   "cell_type": "code",
   "execution_count": 79,
   "id": "ef658605",
   "metadata": {},
   "outputs": [
    {
     "data": {
      "text/plain": [
       "0"
      ]
     },
     "execution_count": 79,
     "metadata": {},
     "output_type": "execute_result"
    }
   ],
   "source": [
    "df1.duplicated().sum()"
   ]
  },
  {
   "cell_type": "code",
   "execution_count": 80,
   "id": "63e13629",
   "metadata": {},
   "outputs": [],
   "source": [
    "df1['Open']=df1['Open'].astype('int')\n",
    "df1['Close']=df1['Close'].astype('int')\n",
    "df1['High']=df1['High'].astype('int')\n",
    "df1['Low']=df1['Low'].astype('int')"
   ]
  },
  {
   "cell_type": "code",
   "execution_count": 81,
   "id": "0653d569",
   "metadata": {},
   "outputs": [
    {
     "data": {
      "text/html": [
       "<div>\n",
       "<style scoped>\n",
       "    .dataframe tbody tr th:only-of-type {\n",
       "        vertical-align: middle;\n",
       "    }\n",
       "\n",
       "    .dataframe tbody tr th {\n",
       "        vertical-align: top;\n",
       "    }\n",
       "\n",
       "    .dataframe thead th {\n",
       "        text-align: right;\n",
       "    }\n",
       "</style>\n",
       "<table border=\"1\" class=\"dataframe\">\n",
       "  <thead>\n",
       "    <tr style=\"text-align: right;\">\n",
       "      <th></th>\n",
       "      <th>Date</th>\n",
       "      <th>Open</th>\n",
       "      <th>High</th>\n",
       "      <th>Low</th>\n",
       "      <th>Close</th>\n",
       "    </tr>\n",
       "  </thead>\n",
       "  <tbody>\n",
       "    <tr>\n",
       "      <th>0</th>\n",
       "      <td>2018-09-14</td>\n",
       "      <td>2044</td>\n",
       "      <td>2071</td>\n",
       "      <td>2018</td>\n",
       "      <td>2065</td>\n",
       "    </tr>\n",
       "    <tr>\n",
       "      <th>1</th>\n",
       "      <td>2018-09-17</td>\n",
       "      <td>2070</td>\n",
       "      <td>2077</td>\n",
       "      <td>2054</td>\n",
       "      <td>2074</td>\n",
       "    </tr>\n",
       "    <tr>\n",
       "      <th>2</th>\n",
       "      <td>2018-09-18</td>\n",
       "      <td>2073</td>\n",
       "      <td>2078</td>\n",
       "      <td>2057</td>\n",
       "      <td>2070</td>\n",
       "    </tr>\n",
       "    <tr>\n",
       "      <th>3</th>\n",
       "      <td>2018-09-19</td>\n",
       "      <td>2071</td>\n",
       "      <td>2089</td>\n",
       "      <td>2066</td>\n",
       "      <td>2077</td>\n",
       "    </tr>\n",
       "    <tr>\n",
       "      <th>4</th>\n",
       "      <td>2018-09-21</td>\n",
       "      <td>2077</td>\n",
       "      <td>2121</td>\n",
       "      <td>2050</td>\n",
       "      <td>2103</td>\n",
       "    </tr>\n",
       "    <tr>\n",
       "      <th>...</th>\n",
       "      <td>...</td>\n",
       "      <td>...</td>\n",
       "      <td>...</td>\n",
       "      <td>...</td>\n",
       "      <td>...</td>\n",
       "    </tr>\n",
       "    <tr>\n",
       "      <th>1230</th>\n",
       "      <td>2023-09-07</td>\n",
       "      <td>3430</td>\n",
       "      <td>3460</td>\n",
       "      <td>3422</td>\n",
       "      <td>3455</td>\n",
       "    </tr>\n",
       "    <tr>\n",
       "      <th>1231</th>\n",
       "      <td>2023-09-08</td>\n",
       "      <td>3455</td>\n",
       "      <td>3465</td>\n",
       "      <td>3435</td>\n",
       "      <td>3441</td>\n",
       "    </tr>\n",
       "    <tr>\n",
       "      <th>1232</th>\n",
       "      <td>2023-09-11</td>\n",
       "      <td>3462</td>\n",
       "      <td>3485</td>\n",
       "      <td>3445</td>\n",
       "      <td>3480</td>\n",
       "    </tr>\n",
       "    <tr>\n",
       "      <th>1233</th>\n",
       "      <td>2023-09-12</td>\n",
       "      <td>3492</td>\n",
       "      <td>3589</td>\n",
       "      <td>3483</td>\n",
       "      <td>3580</td>\n",
       "    </tr>\n",
       "    <tr>\n",
       "      <th>1234</th>\n",
       "      <td>2023-09-13</td>\n",
       "      <td>3571</td>\n",
       "      <td>3588</td>\n",
       "      <td>3545</td>\n",
       "      <td>3567</td>\n",
       "    </tr>\n",
       "  </tbody>\n",
       "</table>\n",
       "<p>1235 rows × 5 columns</p>\n",
       "</div>"
      ],
      "text/plain": [
       "           Date  Open  High   Low  Close\n",
       "0    2018-09-14  2044  2071  2018   2065\n",
       "1    2018-09-17  2070  2077  2054   2074\n",
       "2    2018-09-18  2073  2078  2057   2070\n",
       "3    2018-09-19  2071  2089  2066   2077\n",
       "4    2018-09-21  2077  2121  2050   2103\n",
       "...         ...   ...   ...   ...    ...\n",
       "1230 2023-09-07  3430  3460  3422   3455\n",
       "1231 2023-09-08  3455  3465  3435   3441\n",
       "1232 2023-09-11  3462  3485  3445   3480\n",
       "1233 2023-09-12  3492  3589  3483   3580\n",
       "1234 2023-09-13  3571  3588  3545   3567\n",
       "\n",
       "[1235 rows x 5 columns]"
      ]
     },
     "execution_count": 81,
     "metadata": {},
     "output_type": "execute_result"
    }
   ],
   "source": [
    "df1"
   ]
  },
  {
   "cell_type": "code",
   "execution_count": 82,
   "id": "f7c9f4d9",
   "metadata": {},
   "outputs": [],
   "source": [
    "df1['absolute_difference'] = (df1['High'] - df1['Low']).abs()"
   ]
  },
  {
   "cell_type": "code",
   "execution_count": 83,
   "id": "6d42d7be",
   "metadata": {},
   "outputs": [
    {
     "data": {
      "text/html": [
       "<div>\n",
       "<style scoped>\n",
       "    .dataframe tbody tr th:only-of-type {\n",
       "        vertical-align: middle;\n",
       "    }\n",
       "\n",
       "    .dataframe tbody tr th {\n",
       "        vertical-align: top;\n",
       "    }\n",
       "\n",
       "    .dataframe thead th {\n",
       "        text-align: right;\n",
       "    }\n",
       "</style>\n",
       "<table border=\"1\" class=\"dataframe\">\n",
       "  <thead>\n",
       "    <tr style=\"text-align: right;\">\n",
       "      <th></th>\n",
       "      <th>Date</th>\n",
       "      <th>Open</th>\n",
       "      <th>High</th>\n",
       "      <th>Low</th>\n",
       "      <th>Close</th>\n",
       "      <th>absolute_difference</th>\n",
       "    </tr>\n",
       "  </thead>\n",
       "  <tbody>\n",
       "    <tr>\n",
       "      <th>0</th>\n",
       "      <td>2018-09-14</td>\n",
       "      <td>2044</td>\n",
       "      <td>2071</td>\n",
       "      <td>2018</td>\n",
       "      <td>2065</td>\n",
       "      <td>53</td>\n",
       "    </tr>\n",
       "    <tr>\n",
       "      <th>1</th>\n",
       "      <td>2018-09-17</td>\n",
       "      <td>2070</td>\n",
       "      <td>2077</td>\n",
       "      <td>2054</td>\n",
       "      <td>2074</td>\n",
       "      <td>23</td>\n",
       "    </tr>\n",
       "    <tr>\n",
       "      <th>2</th>\n",
       "      <td>2018-09-18</td>\n",
       "      <td>2073</td>\n",
       "      <td>2078</td>\n",
       "      <td>2057</td>\n",
       "      <td>2070</td>\n",
       "      <td>21</td>\n",
       "    </tr>\n",
       "    <tr>\n",
       "      <th>3</th>\n",
       "      <td>2018-09-19</td>\n",
       "      <td>2071</td>\n",
       "      <td>2089</td>\n",
       "      <td>2066</td>\n",
       "      <td>2077</td>\n",
       "      <td>23</td>\n",
       "    </tr>\n",
       "    <tr>\n",
       "      <th>4</th>\n",
       "      <td>2018-09-21</td>\n",
       "      <td>2077</td>\n",
       "      <td>2121</td>\n",
       "      <td>2050</td>\n",
       "      <td>2103</td>\n",
       "      <td>71</td>\n",
       "    </tr>\n",
       "    <tr>\n",
       "      <th>...</th>\n",
       "      <td>...</td>\n",
       "      <td>...</td>\n",
       "      <td>...</td>\n",
       "      <td>...</td>\n",
       "      <td>...</td>\n",
       "      <td>...</td>\n",
       "    </tr>\n",
       "    <tr>\n",
       "      <th>1230</th>\n",
       "      <td>2023-09-07</td>\n",
       "      <td>3430</td>\n",
       "      <td>3460</td>\n",
       "      <td>3422</td>\n",
       "      <td>3455</td>\n",
       "      <td>38</td>\n",
       "    </tr>\n",
       "    <tr>\n",
       "      <th>1231</th>\n",
       "      <td>2023-09-08</td>\n",
       "      <td>3455</td>\n",
       "      <td>3465</td>\n",
       "      <td>3435</td>\n",
       "      <td>3441</td>\n",
       "      <td>30</td>\n",
       "    </tr>\n",
       "    <tr>\n",
       "      <th>1232</th>\n",
       "      <td>2023-09-11</td>\n",
       "      <td>3462</td>\n",
       "      <td>3485</td>\n",
       "      <td>3445</td>\n",
       "      <td>3480</td>\n",
       "      <td>40</td>\n",
       "    </tr>\n",
       "    <tr>\n",
       "      <th>1233</th>\n",
       "      <td>2023-09-12</td>\n",
       "      <td>3492</td>\n",
       "      <td>3589</td>\n",
       "      <td>3483</td>\n",
       "      <td>3580</td>\n",
       "      <td>106</td>\n",
       "    </tr>\n",
       "    <tr>\n",
       "      <th>1234</th>\n",
       "      <td>2023-09-13</td>\n",
       "      <td>3571</td>\n",
       "      <td>3588</td>\n",
       "      <td>3545</td>\n",
       "      <td>3567</td>\n",
       "      <td>43</td>\n",
       "    </tr>\n",
       "  </tbody>\n",
       "</table>\n",
       "<p>1235 rows × 6 columns</p>\n",
       "</div>"
      ],
      "text/plain": [
       "           Date  Open  High   Low  Close  absolute_difference\n",
       "0    2018-09-14  2044  2071  2018   2065                   53\n",
       "1    2018-09-17  2070  2077  2054   2074                   23\n",
       "2    2018-09-18  2073  2078  2057   2070                   21\n",
       "3    2018-09-19  2071  2089  2066   2077                   23\n",
       "4    2018-09-21  2077  2121  2050   2103                   71\n",
       "...         ...   ...   ...   ...    ...                  ...\n",
       "1230 2023-09-07  3430  3460  3422   3455                   38\n",
       "1231 2023-09-08  3455  3465  3435   3441                   30\n",
       "1232 2023-09-11  3462  3485  3445   3480                   40\n",
       "1233 2023-09-12  3492  3589  3483   3580                  106\n",
       "1234 2023-09-13  3571  3588  3545   3567                   43\n",
       "\n",
       "[1235 rows x 6 columns]"
      ]
     },
     "execution_count": 83,
     "metadata": {},
     "output_type": "execute_result"
    }
   ],
   "source": [
    "df1"
   ]
  },
  {
   "cell_type": "code",
   "execution_count": 90,
   "id": "6f07c652",
   "metadata": {},
   "outputs": [
    {
     "data": {
      "text/plain": [
       "0        53\n",
       "1        23\n",
       "2        21\n",
       "3        23\n",
       "4        71\n",
       "       ... \n",
       "1230     38\n",
       "1231     30\n",
       "1232     40\n",
       "1233    106\n",
       "1234     43\n",
       "Name: absolute_difference, Length: 1235, dtype: int32"
      ]
     },
     "execution_count": 90,
     "metadata": {},
     "output_type": "execute_result"
    }
   ],
   "source": [
    "df1[('absolute_difference')]"
   ]
  },
  {
   "cell_type": "code",
   "execution_count": null,
   "id": "4f4e0387",
   "metadata": {},
   "outputs": [],
   "source": []
  }
 ],
 "metadata": {
  "kernelspec": {
   "display_name": "Python 3 (ipykernel)",
   "language": "python",
   "name": "python3"
  },
  "language_info": {
   "codemirror_mode": {
    "name": "ipython",
    "version": 3
   },
   "file_extension": ".py",
   "mimetype": "text/x-python",
   "name": "python",
   "nbconvert_exporter": "python",
   "pygments_lexer": "ipython3",
   "version": "3.9.13"
  }
 },
 "nbformat": 4,
 "nbformat_minor": 5
}
